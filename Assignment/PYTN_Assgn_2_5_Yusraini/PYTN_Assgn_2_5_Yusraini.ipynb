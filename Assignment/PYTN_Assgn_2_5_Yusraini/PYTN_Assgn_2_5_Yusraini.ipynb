{
 "cells": [
  {
   "cell_type": "markdown",
   "metadata": {},
   "source": [
    "# Assignment 2\n",
    "Project ini untuk memenuhi tugas dari Course Introduction To Python For Data Science\n",
    "\n",
    "Nama : Yusraini Nurul Asra (PYTN-KS19-017)\n",
    "Program\t: Python for Data Science"
   ]
  },
  {
   "cell_type": "markdown",
   "metadata": {},
   "source": [
    "## Libraries"
   ]
  },
  {
   "cell_type": "code",
   "execution_count": 1,
   "metadata": {},
   "outputs": [],
   "source": [
    "import numpy as np\n",
    "import pandas as pd\n",
    "import matplotlib.pyplot as plt\n",
    "%matplotlib inline\n",
    "import seaborn as sns\n",
    "\n",
    "import math\n",
    "import statistics\n",
    "import scipy.stats\n",
    "import numpy as np\n",
    "import pandas as pd\n",
    "import matplotlib as mpl\n",
    "from matplotlib import pyplot as plt\n",
    "import seaborn as sns\n",
    "from IPython.display import Math, Latex     #untuk menulis markdown persamaan matematika\n",
    "%matplotlib inline\n",
    "import seaborn\n",
    "\n",
    "import pandas as pd\n",
    "import numpy as np\n",
    "import math\n",
    "import statistics\n",
    "import scipy.stats\n",
    "from scipy import stats\n",
    "%matplotlib inline\n",
    "import matplotlib as mpl\n",
    "import matplotlib.pyplot as plt\n",
    "import seaborn as sns\n",
    "from statsmodels.stats.diagnostic import lilliefors\n",
    "from statistics import NormalDist\n",
    "from scipy.stats import gaussian_kde\n",
    "import plotly.express as px\n",
    "import statsmodels.api as sm\n",
    "import warnings"
   ]
  },
  {
   "cell_type": "code",
   "execution_count": 2,
   "metadata": {},
   "outputs": [
    {
     "data": {
      "text/html": [
       "<div>\n",
       "<style scoped>\n",
       "    .dataframe tbody tr th:only-of-type {\n",
       "        vertical-align: middle;\n",
       "    }\n",
       "\n",
       "    .dataframe tbody tr th {\n",
       "        vertical-align: top;\n",
       "    }\n",
       "\n",
       "    .dataframe thead th {\n",
       "        text-align: right;\n",
       "    }\n",
       "</style>\n",
       "<table border=\"1\" class=\"dataframe\">\n",
       "  <thead>\n",
       "    <tr style=\"text-align: right;\">\n",
       "      <th></th>\n",
       "      <th>Unnamed: 0</th>\n",
       "      <th>BOROUGH</th>\n",
       "      <th>NEIGHBORHOOD</th>\n",
       "      <th>BUILDING CLASS CATEGORY</th>\n",
       "      <th>TAX CLASS AT PRESENT</th>\n",
       "      <th>BLOCK</th>\n",
       "      <th>LOT</th>\n",
       "      <th>EASE-MENT</th>\n",
       "      <th>BUILDING CLASS AT PRESENT</th>\n",
       "      <th>ADDRESS</th>\n",
       "      <th>APARTMENT NUMBER</th>\n",
       "      <th>ZIP CODE</th>\n",
       "      <th>RESIDENTIAL UNITS</th>\n",
       "      <th>COMMERCIAL UNITS</th>\n",
       "      <th>TOTAL UNITS</th>\n",
       "      <th>LAND SQUARE FEET</th>\n",
       "      <th>GROSS SQUARE FEET</th>\n",
       "      <th>YEAR BUILT</th>\n",
       "      <th>TAX CLASS AT TIME OF SALE</th>\n",
       "      <th>BUILDING CLASS AT TIME OF SALE</th>\n",
       "      <th>SALE PRICE</th>\n",
       "      <th>SALE DATE</th>\n",
       "    </tr>\n",
       "  </thead>\n",
       "  <tbody>\n",
       "    <tr>\n",
       "      <th>0</th>\n",
       "      <td>4</td>\n",
       "      <td>1</td>\n",
       "      <td>ALPHABET CITY</td>\n",
       "      <td>07 RENTALS - WALKUP APARTMENTS</td>\n",
       "      <td>2A</td>\n",
       "      <td>392</td>\n",
       "      <td>6</td>\n",
       "      <td></td>\n",
       "      <td>C2</td>\n",
       "      <td>153 AVENUE B</td>\n",
       "      <td></td>\n",
       "      <td>10009</td>\n",
       "      <td>5</td>\n",
       "      <td>0</td>\n",
       "      <td>5</td>\n",
       "      <td>1633</td>\n",
       "      <td>6440</td>\n",
       "      <td>1900</td>\n",
       "      <td>2</td>\n",
       "      <td>C2</td>\n",
       "      <td>6625000</td>\n",
       "      <td>2017-07-19 00:00:00</td>\n",
       "    </tr>\n",
       "    <tr>\n",
       "      <th>1</th>\n",
       "      <td>5</td>\n",
       "      <td>1</td>\n",
       "      <td>ALPHABET CITY</td>\n",
       "      <td>07 RENTALS - WALKUP APARTMENTS</td>\n",
       "      <td>2</td>\n",
       "      <td>399</td>\n",
       "      <td>26</td>\n",
       "      <td></td>\n",
       "      <td>C7</td>\n",
       "      <td>234 EAST 4TH   STREET</td>\n",
       "      <td></td>\n",
       "      <td>10009</td>\n",
       "      <td>28</td>\n",
       "      <td>3</td>\n",
       "      <td>31</td>\n",
       "      <td>4616</td>\n",
       "      <td>18690</td>\n",
       "      <td>1900</td>\n",
       "      <td>2</td>\n",
       "      <td>C7</td>\n",
       "      <td>-</td>\n",
       "      <td>2016-12-14 00:00:00</td>\n",
       "    </tr>\n",
       "    <tr>\n",
       "      <th>2</th>\n",
       "      <td>6</td>\n",
       "      <td>1</td>\n",
       "      <td>ALPHABET CITY</td>\n",
       "      <td>07 RENTALS - WALKUP APARTMENTS</td>\n",
       "      <td>2</td>\n",
       "      <td>399</td>\n",
       "      <td>39</td>\n",
       "      <td></td>\n",
       "      <td>C7</td>\n",
       "      <td>197 EAST 3RD   STREET</td>\n",
       "      <td></td>\n",
       "      <td>10009</td>\n",
       "      <td>16</td>\n",
       "      <td>1</td>\n",
       "      <td>17</td>\n",
       "      <td>2212</td>\n",
       "      <td>7803</td>\n",
       "      <td>1900</td>\n",
       "      <td>2</td>\n",
       "      <td>C7</td>\n",
       "      <td>-</td>\n",
       "      <td>2016-12-09 00:00:00</td>\n",
       "    </tr>\n",
       "    <tr>\n",
       "      <th>3</th>\n",
       "      <td>7</td>\n",
       "      <td>1</td>\n",
       "      <td>ALPHABET CITY</td>\n",
       "      <td>07 RENTALS - WALKUP APARTMENTS</td>\n",
       "      <td>2B</td>\n",
       "      <td>402</td>\n",
       "      <td>21</td>\n",
       "      <td></td>\n",
       "      <td>C4</td>\n",
       "      <td>154 EAST 7TH STREET</td>\n",
       "      <td></td>\n",
       "      <td>10009</td>\n",
       "      <td>10</td>\n",
       "      <td>0</td>\n",
       "      <td>10</td>\n",
       "      <td>2272</td>\n",
       "      <td>6794</td>\n",
       "      <td>1913</td>\n",
       "      <td>2</td>\n",
       "      <td>C4</td>\n",
       "      <td>3936272</td>\n",
       "      <td>2016-09-23 00:00:00</td>\n",
       "    </tr>\n",
       "    <tr>\n",
       "      <th>4</th>\n",
       "      <td>8</td>\n",
       "      <td>1</td>\n",
       "      <td>ALPHABET CITY</td>\n",
       "      <td>07 RENTALS - WALKUP APARTMENTS</td>\n",
       "      <td>2A</td>\n",
       "      <td>404</td>\n",
       "      <td>55</td>\n",
       "      <td></td>\n",
       "      <td>C2</td>\n",
       "      <td>301 EAST 10TH   STREET</td>\n",
       "      <td></td>\n",
       "      <td>10009</td>\n",
       "      <td>6</td>\n",
       "      <td>0</td>\n",
       "      <td>6</td>\n",
       "      <td>2369</td>\n",
       "      <td>4615</td>\n",
       "      <td>1900</td>\n",
       "      <td>2</td>\n",
       "      <td>C2</td>\n",
       "      <td>8000000</td>\n",
       "      <td>2016-11-17 00:00:00</td>\n",
       "    </tr>\n",
       "    <tr>\n",
       "      <th>...</th>\n",
       "      <td>...</td>\n",
       "      <td>...</td>\n",
       "      <td>...</td>\n",
       "      <td>...</td>\n",
       "      <td>...</td>\n",
       "      <td>...</td>\n",
       "      <td>...</td>\n",
       "      <td>...</td>\n",
       "      <td>...</td>\n",
       "      <td>...</td>\n",
       "      <td>...</td>\n",
       "      <td>...</td>\n",
       "      <td>...</td>\n",
       "      <td>...</td>\n",
       "      <td>...</td>\n",
       "      <td>...</td>\n",
       "      <td>...</td>\n",
       "      <td>...</td>\n",
       "      <td>...</td>\n",
       "      <td>...</td>\n",
       "      <td>...</td>\n",
       "      <td>...</td>\n",
       "    </tr>\n",
       "    <tr>\n",
       "      <th>84543</th>\n",
       "      <td>8409</td>\n",
       "      <td>5</td>\n",
       "      <td>WOODROW</td>\n",
       "      <td>02 TWO FAMILY DWELLINGS</td>\n",
       "      <td>1</td>\n",
       "      <td>7349</td>\n",
       "      <td>34</td>\n",
       "      <td></td>\n",
       "      <td>B9</td>\n",
       "      <td>37 QUAIL LANE</td>\n",
       "      <td></td>\n",
       "      <td>10309</td>\n",
       "      <td>2</td>\n",
       "      <td>0</td>\n",
       "      <td>2</td>\n",
       "      <td>2400</td>\n",
       "      <td>2575</td>\n",
       "      <td>1998</td>\n",
       "      <td>1</td>\n",
       "      <td>B9</td>\n",
       "      <td>450000</td>\n",
       "      <td>2016-11-28 00:00:00</td>\n",
       "    </tr>\n",
       "    <tr>\n",
       "      <th>84544</th>\n",
       "      <td>8410</td>\n",
       "      <td>5</td>\n",
       "      <td>WOODROW</td>\n",
       "      <td>02 TWO FAMILY DWELLINGS</td>\n",
       "      <td>1</td>\n",
       "      <td>7349</td>\n",
       "      <td>78</td>\n",
       "      <td></td>\n",
       "      <td>B9</td>\n",
       "      <td>32 PHEASANT LANE</td>\n",
       "      <td></td>\n",
       "      <td>10309</td>\n",
       "      <td>2</td>\n",
       "      <td>0</td>\n",
       "      <td>2</td>\n",
       "      <td>2498</td>\n",
       "      <td>2377</td>\n",
       "      <td>1998</td>\n",
       "      <td>1</td>\n",
       "      <td>B9</td>\n",
       "      <td>550000</td>\n",
       "      <td>2017-04-21 00:00:00</td>\n",
       "    </tr>\n",
       "    <tr>\n",
       "      <th>84545</th>\n",
       "      <td>8411</td>\n",
       "      <td>5</td>\n",
       "      <td>WOODROW</td>\n",
       "      <td>02 TWO FAMILY DWELLINGS</td>\n",
       "      <td>1</td>\n",
       "      <td>7351</td>\n",
       "      <td>60</td>\n",
       "      <td></td>\n",
       "      <td>B2</td>\n",
       "      <td>49 PITNEY AVENUE</td>\n",
       "      <td></td>\n",
       "      <td>10309</td>\n",
       "      <td>2</td>\n",
       "      <td>0</td>\n",
       "      <td>2</td>\n",
       "      <td>4000</td>\n",
       "      <td>1496</td>\n",
       "      <td>1925</td>\n",
       "      <td>1</td>\n",
       "      <td>B2</td>\n",
       "      <td>460000</td>\n",
       "      <td>2017-07-05 00:00:00</td>\n",
       "    </tr>\n",
       "    <tr>\n",
       "      <th>84546</th>\n",
       "      <td>8412</td>\n",
       "      <td>5</td>\n",
       "      <td>WOODROW</td>\n",
       "      <td>22 STORE BUILDINGS</td>\n",
       "      <td>4</td>\n",
       "      <td>7100</td>\n",
       "      <td>28</td>\n",
       "      <td></td>\n",
       "      <td>K6</td>\n",
       "      <td>2730 ARTHUR KILL ROAD</td>\n",
       "      <td></td>\n",
       "      <td>10309</td>\n",
       "      <td>0</td>\n",
       "      <td>7</td>\n",
       "      <td>7</td>\n",
       "      <td>208033</td>\n",
       "      <td>64117</td>\n",
       "      <td>2001</td>\n",
       "      <td>4</td>\n",
       "      <td>K6</td>\n",
       "      <td>11693337</td>\n",
       "      <td>2016-12-21 00:00:00</td>\n",
       "    </tr>\n",
       "    <tr>\n",
       "      <th>84547</th>\n",
       "      <td>8413</td>\n",
       "      <td>5</td>\n",
       "      <td>WOODROW</td>\n",
       "      <td>35 INDOOR PUBLIC AND CULTURAL FACILITIES</td>\n",
       "      <td>4</td>\n",
       "      <td>7105</td>\n",
       "      <td>679</td>\n",
       "      <td></td>\n",
       "      <td>P9</td>\n",
       "      <td>155 CLAY PIT ROAD</td>\n",
       "      <td></td>\n",
       "      <td>10309</td>\n",
       "      <td>0</td>\n",
       "      <td>1</td>\n",
       "      <td>1</td>\n",
       "      <td>10796</td>\n",
       "      <td>2400</td>\n",
       "      <td>2006</td>\n",
       "      <td>4</td>\n",
       "      <td>P9</td>\n",
       "      <td>69300</td>\n",
       "      <td>2016-10-27 00:00:00</td>\n",
       "    </tr>\n",
       "  </tbody>\n",
       "</table>\n",
       "<p>84548 rows × 22 columns</p>\n",
       "</div>"
      ],
      "text/plain": [
       "       Unnamed: 0  BOROUGH   NEIGHBORHOOD  \\\n",
       "0               4        1  ALPHABET CITY   \n",
       "1               5        1  ALPHABET CITY   \n",
       "2               6        1  ALPHABET CITY   \n",
       "3               7        1  ALPHABET CITY   \n",
       "4               8        1  ALPHABET CITY   \n",
       "...           ...      ...            ...   \n",
       "84543        8409        5        WOODROW   \n",
       "84544        8410        5        WOODROW   \n",
       "84545        8411        5        WOODROW   \n",
       "84546        8412        5        WOODROW   \n",
       "84547        8413        5        WOODROW   \n",
       "\n",
       "                           BUILDING CLASS CATEGORY TAX CLASS AT PRESENT  \\\n",
       "0      07 RENTALS - WALKUP APARTMENTS                                2A   \n",
       "1      07 RENTALS - WALKUP APARTMENTS                                 2   \n",
       "2      07 RENTALS - WALKUP APARTMENTS                                 2   \n",
       "3      07 RENTALS - WALKUP APARTMENTS                                2B   \n",
       "4      07 RENTALS - WALKUP APARTMENTS                                2A   \n",
       "...                                            ...                  ...   \n",
       "84543  02 TWO FAMILY DWELLINGS                                        1   \n",
       "84544  02 TWO FAMILY DWELLINGS                                        1   \n",
       "84545  02 TWO FAMILY DWELLINGS                                        1   \n",
       "84546  22 STORE BUILDINGS                                             4   \n",
       "84547  35 INDOOR PUBLIC AND CULTURAL FACILITIES                       4   \n",
       "\n",
       "       BLOCK  LOT EASE-MENT BUILDING CLASS AT PRESENT                 ADDRESS  \\\n",
       "0        392    6                                  C2            153 AVENUE B   \n",
       "1        399   26                                  C7   234 EAST 4TH   STREET   \n",
       "2        399   39                                  C7   197 EAST 3RD   STREET   \n",
       "3        402   21                                  C4     154 EAST 7TH STREET   \n",
       "4        404   55                                  C2  301 EAST 10TH   STREET   \n",
       "...      ...  ...       ...                       ...                     ...   \n",
       "84543   7349   34                                  B9           37 QUAIL LANE   \n",
       "84544   7349   78                                  B9        32 PHEASANT LANE   \n",
       "84545   7351   60                                  B2        49 PITNEY AVENUE   \n",
       "84546   7100   28                                  K6   2730 ARTHUR KILL ROAD   \n",
       "84547   7105  679                                  P9       155 CLAY PIT ROAD   \n",
       "\n",
       "      APARTMENT NUMBER  ZIP CODE  RESIDENTIAL UNITS  COMMERCIAL UNITS  \\\n",
       "0                          10009                  5                 0   \n",
       "1                          10009                 28                 3   \n",
       "2                          10009                 16                 1   \n",
       "3                          10009                 10                 0   \n",
       "4                          10009                  6                 0   \n",
       "...                ...       ...                ...               ...   \n",
       "84543                      10309                  2                 0   \n",
       "84544                      10309                  2                 0   \n",
       "84545                      10309                  2                 0   \n",
       "84546                      10309                  0                 7   \n",
       "84547                      10309                  0                 1   \n",
       "\n",
       "       TOTAL UNITS LAND SQUARE FEET GROSS SQUARE FEET  YEAR BUILT  \\\n",
       "0                5             1633              6440        1900   \n",
       "1               31             4616             18690        1900   \n",
       "2               17             2212              7803        1900   \n",
       "3               10             2272              6794        1913   \n",
       "4                6             2369              4615        1900   \n",
       "...            ...              ...               ...         ...   \n",
       "84543            2             2400              2575        1998   \n",
       "84544            2             2498              2377        1998   \n",
       "84545            2             4000              1496        1925   \n",
       "84546            7           208033             64117        2001   \n",
       "84547            1            10796              2400        2006   \n",
       "\n",
       "       TAX CLASS AT TIME OF SALE BUILDING CLASS AT TIME OF SALE SALE PRICE  \\\n",
       "0                              2                             C2    6625000   \n",
       "1                              2                             C7        -     \n",
       "2                              2                             C7        -     \n",
       "3                              2                             C4    3936272   \n",
       "4                              2                             C2    8000000   \n",
       "...                          ...                            ...        ...   \n",
       "84543                          1                             B9     450000   \n",
       "84544                          1                             B9     550000   \n",
       "84545                          1                             B2     460000   \n",
       "84546                          4                             K6   11693337   \n",
       "84547                          4                             P9      69300   \n",
       "\n",
       "                 SALE DATE  \n",
       "0      2017-07-19 00:00:00  \n",
       "1      2016-12-14 00:00:00  \n",
       "2      2016-12-09 00:00:00  \n",
       "3      2016-09-23 00:00:00  \n",
       "4      2016-11-17 00:00:00  \n",
       "...                    ...  \n",
       "84543  2016-11-28 00:00:00  \n",
       "84544  2017-04-21 00:00:00  \n",
       "84545  2017-07-05 00:00:00  \n",
       "84546  2016-12-21 00:00:00  \n",
       "84547  2016-10-27 00:00:00  \n",
       "\n",
       "[84548 rows x 22 columns]"
      ]
     },
     "execution_count": 2,
     "metadata": {},
     "output_type": "execute_result"
    }
   ],
   "source": [
    "df = pd.read_csv('nyc-rolling-sales.csv')\n",
    "pd.set_option('display.max.columns',None)\n",
    "df"
   ]
  },
  {
   "cell_type": "code",
   "execution_count": 3,
   "metadata": {},
   "outputs": [],
   "source": [
    "# Convert columns to datetime data type\n",
    "df[\"SALE DATE\"] = pd.to_datetime(df[\"SALE DATE\"])"
   ]
  },
  {
   "cell_type": "code",
   "execution_count": 4,
   "metadata": {},
   "outputs": [],
   "source": [
    "# Convert columns to numeric data type\n",
    "numeric = [\"RESIDENTIAL UNITS\",\"COMMERCIAL UNITS\",\"TOTAL UNITS\", \"LAND SQUARE FEET\" , \"GROSS SQUARE FEET\",\"SALE PRICE\"]\n",
    "\n",
    "for col in numeric: \n",
    "    df[col] = pd.to_numeric(df[col], errors='coerce') # 'coerce' is used to convert invalid values"
   ]
  },
  {
   "cell_type": "code",
   "execution_count": 5,
   "metadata": {},
   "outputs": [],
   "source": [
    "categorical = []\n",
    "for i in df.columns[:-1]:\n",
    "    if i not in numeric:\n",
    "        categorical.append(i)\n",
    "\n",
    "for col in categorical: \n",
    "    df[col] = df[col].astype(\"category\")"
   ]
  },
  {
   "cell_type": "code",
   "execution_count": 6,
   "metadata": {},
   "outputs": [
    {
     "data": {
      "text/html": [
       "<div>\n",
       "<style scoped>\n",
       "    .dataframe tbody tr th:only-of-type {\n",
       "        vertical-align: middle;\n",
       "    }\n",
       "\n",
       "    .dataframe tbody tr th {\n",
       "        vertical-align: top;\n",
       "    }\n",
       "\n",
       "    .dataframe thead th {\n",
       "        text-align: right;\n",
       "    }\n",
       "</style>\n",
       "<table border=\"1\" class=\"dataframe\">\n",
       "  <thead>\n",
       "    <tr style=\"text-align: right;\">\n",
       "      <th></th>\n",
       "      <th>Unnamed: 0</th>\n",
       "      <th>BOROUGH</th>\n",
       "      <th>NEIGHBORHOOD</th>\n",
       "      <th>BUILDING CLASS CATEGORY</th>\n",
       "      <th>TAX CLASS AT PRESENT</th>\n",
       "      <th>BLOCK</th>\n",
       "      <th>LOT</th>\n",
       "      <th>EASE-MENT</th>\n",
       "      <th>BUILDING CLASS AT PRESENT</th>\n",
       "      <th>ADDRESS</th>\n",
       "      <th>APARTMENT NUMBER</th>\n",
       "      <th>ZIP CODE</th>\n",
       "      <th>RESIDENTIAL UNITS</th>\n",
       "      <th>COMMERCIAL UNITS</th>\n",
       "      <th>TOTAL UNITS</th>\n",
       "      <th>LAND SQUARE FEET</th>\n",
       "      <th>GROSS SQUARE FEET</th>\n",
       "      <th>YEAR BUILT</th>\n",
       "      <th>TAX CLASS AT TIME OF SALE</th>\n",
       "      <th>BUILDING CLASS AT TIME OF SALE</th>\n",
       "      <th>SALE PRICE</th>\n",
       "      <th>SALE DATE</th>\n",
       "    </tr>\n",
       "  </thead>\n",
       "  <tbody>\n",
       "    <tr>\n",
       "      <th>0</th>\n",
       "      <td>4</td>\n",
       "      <td>Manhattan</td>\n",
       "      <td>ALPHABET CITY</td>\n",
       "      <td>07 RENTALS - WALKUP APARTMENTS</td>\n",
       "      <td>2A</td>\n",
       "      <td>392</td>\n",
       "      <td>6</td>\n",
       "      <td></td>\n",
       "      <td>C2</td>\n",
       "      <td>153 AVENUE B</td>\n",
       "      <td></td>\n",
       "      <td>10009</td>\n",
       "      <td>5</td>\n",
       "      <td>0</td>\n",
       "      <td>5</td>\n",
       "      <td>1633.0</td>\n",
       "      <td>6440.0</td>\n",
       "      <td>1900</td>\n",
       "      <td>2</td>\n",
       "      <td>C2</td>\n",
       "      <td>6625000.0</td>\n",
       "      <td>2017-07-19</td>\n",
       "    </tr>\n",
       "    <tr>\n",
       "      <th>1</th>\n",
       "      <td>5</td>\n",
       "      <td>Manhattan</td>\n",
       "      <td>ALPHABET CITY</td>\n",
       "      <td>07 RENTALS - WALKUP APARTMENTS</td>\n",
       "      <td>2</td>\n",
       "      <td>399</td>\n",
       "      <td>26</td>\n",
       "      <td></td>\n",
       "      <td>C7</td>\n",
       "      <td>234 EAST 4TH   STREET</td>\n",
       "      <td></td>\n",
       "      <td>10009</td>\n",
       "      <td>28</td>\n",
       "      <td>3</td>\n",
       "      <td>31</td>\n",
       "      <td>4616.0</td>\n",
       "      <td>18690.0</td>\n",
       "      <td>1900</td>\n",
       "      <td>2</td>\n",
       "      <td>C7</td>\n",
       "      <td>NaN</td>\n",
       "      <td>2016-12-14</td>\n",
       "    </tr>\n",
       "    <tr>\n",
       "      <th>2</th>\n",
       "      <td>6</td>\n",
       "      <td>Manhattan</td>\n",
       "      <td>ALPHABET CITY</td>\n",
       "      <td>07 RENTALS - WALKUP APARTMENTS</td>\n",
       "      <td>2</td>\n",
       "      <td>399</td>\n",
       "      <td>39</td>\n",
       "      <td></td>\n",
       "      <td>C7</td>\n",
       "      <td>197 EAST 3RD   STREET</td>\n",
       "      <td></td>\n",
       "      <td>10009</td>\n",
       "      <td>16</td>\n",
       "      <td>1</td>\n",
       "      <td>17</td>\n",
       "      <td>2212.0</td>\n",
       "      <td>7803.0</td>\n",
       "      <td>1900</td>\n",
       "      <td>2</td>\n",
       "      <td>C7</td>\n",
       "      <td>NaN</td>\n",
       "      <td>2016-12-09</td>\n",
       "    </tr>\n",
       "    <tr>\n",
       "      <th>3</th>\n",
       "      <td>7</td>\n",
       "      <td>Manhattan</td>\n",
       "      <td>ALPHABET CITY</td>\n",
       "      <td>07 RENTALS - WALKUP APARTMENTS</td>\n",
       "      <td>2B</td>\n",
       "      <td>402</td>\n",
       "      <td>21</td>\n",
       "      <td></td>\n",
       "      <td>C4</td>\n",
       "      <td>154 EAST 7TH STREET</td>\n",
       "      <td></td>\n",
       "      <td>10009</td>\n",
       "      <td>10</td>\n",
       "      <td>0</td>\n",
       "      <td>10</td>\n",
       "      <td>2272.0</td>\n",
       "      <td>6794.0</td>\n",
       "      <td>1913</td>\n",
       "      <td>2</td>\n",
       "      <td>C4</td>\n",
       "      <td>3936272.0</td>\n",
       "      <td>2016-09-23</td>\n",
       "    </tr>\n",
       "    <tr>\n",
       "      <th>4</th>\n",
       "      <td>8</td>\n",
       "      <td>Manhattan</td>\n",
       "      <td>ALPHABET CITY</td>\n",
       "      <td>07 RENTALS - WALKUP APARTMENTS</td>\n",
       "      <td>2A</td>\n",
       "      <td>404</td>\n",
       "      <td>55</td>\n",
       "      <td></td>\n",
       "      <td>C2</td>\n",
       "      <td>301 EAST 10TH   STREET</td>\n",
       "      <td></td>\n",
       "      <td>10009</td>\n",
       "      <td>6</td>\n",
       "      <td>0</td>\n",
       "      <td>6</td>\n",
       "      <td>2369.0</td>\n",
       "      <td>4615.0</td>\n",
       "      <td>1900</td>\n",
       "      <td>2</td>\n",
       "      <td>C2</td>\n",
       "      <td>8000000.0</td>\n",
       "      <td>2016-11-17</td>\n",
       "    </tr>\n",
       "  </tbody>\n",
       "</table>\n",
       "</div>"
      ],
      "text/plain": [
       "  Unnamed: 0    BOROUGH   NEIGHBORHOOD  \\\n",
       "0          4  Manhattan  ALPHABET CITY   \n",
       "1          5  Manhattan  ALPHABET CITY   \n",
       "2          6  Manhattan  ALPHABET CITY   \n",
       "3          7  Manhattan  ALPHABET CITY   \n",
       "4          8  Manhattan  ALPHABET CITY   \n",
       "\n",
       "                       BUILDING CLASS CATEGORY TAX CLASS AT PRESENT BLOCK LOT  \\\n",
       "0  07 RENTALS - WALKUP APARTMENTS                                2A   392   6   \n",
       "1  07 RENTALS - WALKUP APARTMENTS                                 2   399  26   \n",
       "2  07 RENTALS - WALKUP APARTMENTS                                 2   399  39   \n",
       "3  07 RENTALS - WALKUP APARTMENTS                                2B   402  21   \n",
       "4  07 RENTALS - WALKUP APARTMENTS                                2A   404  55   \n",
       "\n",
       "  EASE-MENT BUILDING CLASS AT PRESENT                 ADDRESS  \\\n",
       "0                                  C2            153 AVENUE B   \n",
       "1                                  C7   234 EAST 4TH   STREET   \n",
       "2                                  C7   197 EAST 3RD   STREET   \n",
       "3                                  C4     154 EAST 7TH STREET   \n",
       "4                                  C2  301 EAST 10TH   STREET   \n",
       "\n",
       "  APARTMENT NUMBER ZIP CODE  RESIDENTIAL UNITS  COMMERCIAL UNITS  TOTAL UNITS  \\\n",
       "0                     10009                  5                 0            5   \n",
       "1                     10009                 28                 3           31   \n",
       "2                     10009                 16                 1           17   \n",
       "3                     10009                 10                 0           10   \n",
       "4                     10009                  6                 0            6   \n",
       "\n",
       "   LAND SQUARE FEET  GROSS SQUARE FEET YEAR BUILT TAX CLASS AT TIME OF SALE  \\\n",
       "0            1633.0             6440.0       1900                         2   \n",
       "1            4616.0            18690.0       1900                         2   \n",
       "2            2212.0             7803.0       1900                         2   \n",
       "3            2272.0             6794.0       1913                         2   \n",
       "4            2369.0             4615.0       1900                         2   \n",
       "\n",
       "  BUILDING CLASS AT TIME OF SALE  SALE PRICE  SALE DATE  \n",
       "0                             C2   6625000.0 2017-07-19  \n",
       "1                             C7         NaN 2016-12-14  \n",
       "2                             C7         NaN 2016-12-09  \n",
       "3                             C4   3936272.0 2016-09-23  \n",
       "4                             C2   8000000.0 2016-11-17  "
      ]
     },
     "execution_count": 6,
     "metadata": {},
     "output_type": "execute_result"
    }
   ],
   "source": [
    "# Convert numeric codes in the \"borough\" column into area names\n",
    "renaming_borough = {1: 'Manhattan',\n",
    "                    2: 'Bronx',\n",
    "                    3: 'Brooklyn',\n",
    "                    4: 'Queens',\n",
    "                    5: 'Staten Island'}\n",
    "df['BOROUGH'] = df['BOROUGH'].replace(renaming_borough)\n",
    "df.head()"
   ]
  },
  {
   "cell_type": "code",
   "execution_count": 7,
   "metadata": {},
   "outputs": [],
   "source": [
    "# Replace blank spaces with NaN\n",
    "df.replace(' ',np.nan, inplace=True)"
   ]
  },
  {
   "cell_type": "code",
   "execution_count": 8,
   "metadata": {},
   "outputs": [
    {
     "data": {
      "text/html": [
       "<div>\n",
       "<style scoped>\n",
       "    .dataframe tbody tr th:only-of-type {\n",
       "        vertical-align: middle;\n",
       "    }\n",
       "\n",
       "    .dataframe tbody tr th {\n",
       "        vertical-align: top;\n",
       "    }\n",
       "\n",
       "    .dataframe thead th {\n",
       "        text-align: right;\n",
       "    }\n",
       "</style>\n",
       "<table border=\"1\" class=\"dataframe\">\n",
       "  <thead>\n",
       "    <tr style=\"text-align: right;\">\n",
       "      <th></th>\n",
       "      <th>null</th>\n",
       "      <th>null_percentage</th>\n",
       "      <th>unique</th>\n",
       "      <th>type</th>\n",
       "    </tr>\n",
       "  </thead>\n",
       "  <tbody>\n",
       "    <tr>\n",
       "      <th>EASE-MENT</th>\n",
       "      <td>84548</td>\n",
       "      <td>100.000000</td>\n",
       "      <td>0</td>\n",
       "      <td>category</td>\n",
       "    </tr>\n",
       "    <tr>\n",
       "      <th>APARTMENT NUMBER</th>\n",
       "      <td>65496</td>\n",
       "      <td>77.466055</td>\n",
       "      <td>3988</td>\n",
       "      <td>category</td>\n",
       "    </tr>\n",
       "    <tr>\n",
       "      <th>GROSS SQUARE FEET</th>\n",
       "      <td>27612</td>\n",
       "      <td>32.658372</td>\n",
       "      <td>5690</td>\n",
       "      <td>float64</td>\n",
       "    </tr>\n",
       "    <tr>\n",
       "      <th>LAND SQUARE FEET</th>\n",
       "      <td>26252</td>\n",
       "      <td>31.049818</td>\n",
       "      <td>6061</td>\n",
       "      <td>float64</td>\n",
       "    </tr>\n",
       "    <tr>\n",
       "      <th>SALE PRICE</th>\n",
       "      <td>14561</td>\n",
       "      <td>17.222170</td>\n",
       "      <td>10007</td>\n",
       "      <td>float64</td>\n",
       "    </tr>\n",
       "    <tr>\n",
       "      <th>TAX CLASS AT PRESENT</th>\n",
       "      <td>738</td>\n",
       "      <td>0.872877</td>\n",
       "      <td>10</td>\n",
       "      <td>category</td>\n",
       "    </tr>\n",
       "    <tr>\n",
       "      <th>BUILDING CLASS AT PRESENT</th>\n",
       "      <td>738</td>\n",
       "      <td>0.872877</td>\n",
       "      <td>166</td>\n",
       "      <td>category</td>\n",
       "    </tr>\n",
       "    <tr>\n",
       "      <th>Unnamed: 0</th>\n",
       "      <td>0</td>\n",
       "      <td>0.000000</td>\n",
       "      <td>26736</td>\n",
       "      <td>category</td>\n",
       "    </tr>\n",
       "    <tr>\n",
       "      <th>COMMERCIAL UNITS</th>\n",
       "      <td>0</td>\n",
       "      <td>0.000000</td>\n",
       "      <td>55</td>\n",
       "      <td>int64</td>\n",
       "    </tr>\n",
       "    <tr>\n",
       "      <th>BUILDING CLASS AT TIME OF SALE</th>\n",
       "      <td>0</td>\n",
       "      <td>0.000000</td>\n",
       "      <td>166</td>\n",
       "      <td>category</td>\n",
       "    </tr>\n",
       "    <tr>\n",
       "      <th>TAX CLASS AT TIME OF SALE</th>\n",
       "      <td>0</td>\n",
       "      <td>0.000000</td>\n",
       "      <td>4</td>\n",
       "      <td>category</td>\n",
       "    </tr>\n",
       "    <tr>\n",
       "      <th>YEAR BUILT</th>\n",
       "      <td>0</td>\n",
       "      <td>0.000000</td>\n",
       "      <td>158</td>\n",
       "      <td>category</td>\n",
       "    </tr>\n",
       "    <tr>\n",
       "      <th>TOTAL UNITS</th>\n",
       "      <td>0</td>\n",
       "      <td>0.000000</td>\n",
       "      <td>192</td>\n",
       "      <td>int64</td>\n",
       "    </tr>\n",
       "    <tr>\n",
       "      <th>ZIP CODE</th>\n",
       "      <td>0</td>\n",
       "      <td>0.000000</td>\n",
       "      <td>186</td>\n",
       "      <td>category</td>\n",
       "    </tr>\n",
       "    <tr>\n",
       "      <th>RESIDENTIAL UNITS</th>\n",
       "      <td>0</td>\n",
       "      <td>0.000000</td>\n",
       "      <td>176</td>\n",
       "      <td>int64</td>\n",
       "    </tr>\n",
       "    <tr>\n",
       "      <th>BOROUGH</th>\n",
       "      <td>0</td>\n",
       "      <td>0.000000</td>\n",
       "      <td>5</td>\n",
       "      <td>category</td>\n",
       "    </tr>\n",
       "    <tr>\n",
       "      <th>ADDRESS</th>\n",
       "      <td>0</td>\n",
       "      <td>0.000000</td>\n",
       "      <td>67563</td>\n",
       "      <td>category</td>\n",
       "    </tr>\n",
       "    <tr>\n",
       "      <th>LOT</th>\n",
       "      <td>0</td>\n",
       "      <td>0.000000</td>\n",
       "      <td>2627</td>\n",
       "      <td>category</td>\n",
       "    </tr>\n",
       "    <tr>\n",
       "      <th>BLOCK</th>\n",
       "      <td>0</td>\n",
       "      <td>0.000000</td>\n",
       "      <td>11566</td>\n",
       "      <td>category</td>\n",
       "    </tr>\n",
       "    <tr>\n",
       "      <th>BUILDING CLASS CATEGORY</th>\n",
       "      <td>0</td>\n",
       "      <td>0.000000</td>\n",
       "      <td>47</td>\n",
       "      <td>category</td>\n",
       "    </tr>\n",
       "    <tr>\n",
       "      <th>NEIGHBORHOOD</th>\n",
       "      <td>0</td>\n",
       "      <td>0.000000</td>\n",
       "      <td>254</td>\n",
       "      <td>category</td>\n",
       "    </tr>\n",
       "    <tr>\n",
       "      <th>SALE DATE</th>\n",
       "      <td>0</td>\n",
       "      <td>0.000000</td>\n",
       "      <td>364</td>\n",
       "      <td>datetime64[ns]</td>\n",
       "    </tr>\n",
       "  </tbody>\n",
       "</table>\n",
       "</div>"
      ],
      "text/plain": [
       "                                 null  null_percentage  unique            type\n",
       "EASE-MENT                       84548       100.000000       0        category\n",
       "APARTMENT NUMBER                65496        77.466055    3988        category\n",
       "GROSS SQUARE FEET               27612        32.658372    5690         float64\n",
       "LAND SQUARE FEET                26252        31.049818    6061         float64\n",
       "SALE PRICE                      14561        17.222170   10007         float64\n",
       "TAX CLASS AT PRESENT              738         0.872877      10        category\n",
       "BUILDING CLASS AT PRESENT         738         0.872877     166        category\n",
       "Unnamed: 0                          0         0.000000   26736        category\n",
       "COMMERCIAL UNITS                    0         0.000000      55           int64\n",
       "BUILDING CLASS AT TIME OF SALE      0         0.000000     166        category\n",
       "TAX CLASS AT TIME OF SALE           0         0.000000       4        category\n",
       "YEAR BUILT                          0         0.000000     158        category\n",
       "TOTAL UNITS                         0         0.000000     192           int64\n",
       "ZIP CODE                            0         0.000000     186        category\n",
       "RESIDENTIAL UNITS                   0         0.000000     176           int64\n",
       "BOROUGH                             0         0.000000       5        category\n",
       "ADDRESS                             0         0.000000   67563        category\n",
       "LOT                                 0         0.000000    2627        category\n",
       "BLOCK                               0         0.000000   11566        category\n",
       "BUILDING CLASS CATEGORY             0         0.000000      47        category\n",
       "NEIGHBORHOOD                        0         0.000000     254        category\n",
       "SALE DATE                           0         0.000000     364  datetime64[ns]"
      ]
     },
     "execution_count": 8,
     "metadata": {},
     "output_type": "execute_result"
    }
   ],
   "source": [
    "pd.DataFrame({\n",
    "    \"null\":df.isnull().sum().values,\n",
    "    \"null_percentage\":df.isnull().sum().values / len(df) * 100,\n",
    "    \"unique\":[df[i].nunique() for i in df.columns],\n",
    "    \"type\":df.dtypes.values\n",
    "}).set_index(df.isnull().sum().index).sort_values(\"null\",ascending=False)"
   ]
  },
  {
   "cell_type": "code",
   "execution_count": 9,
   "metadata": {},
   "outputs": [],
   "source": [
    "# Delete `Unnamed`\n",
    "df.drop([\"Unnamed: 0\",\"BLOCK\", \"LOT\", \"ADDRESS\",], axis=1, inplace=True)"
   ]
  },
  {
   "cell_type": "markdown",
   "metadata": {},
   "source": [
    "## Replace Missing Value\n",
    "Address missing or unavailable values in your dataset."
   ]
  },
  {
   "cell_type": "markdown",
   "metadata": {},
   "source": [
    "2. **EASE-MENT (84548 missing values):**\n",
    "Kolom \"EASE-MENT\" memiliki jumlah missing value yang sangat besar,  menunjukkan bahwa mungkin tidak memberikan informasi berharga untuk analisis. Oleh karena itu, `dipertimbangkan untuk menghapusnya` agar menyederhanakan dataset."
   ]
  },
  {
   "cell_type": "code",
   "execution_count": 10,
   "metadata": {},
   "outputs": [],
   "source": [
    "# Dropping columns\n",
    "df.drop('EASE-MENT', axis=1, inplace=True)"
   ]
  },
  {
   "cell_type": "markdown",
   "metadata": {},
   "source": [
    "4. **APARTMENT NUMBER (65496 missing values):**\n",
    "Kolom \"APARTMENT NUMBER\" sebenarnya dapat digunakan untuk analisis, namun lebih baik mengisi nilai yang hilang dengan label khusus seperti untuk mempertahankan signifikansinya. Namun, penggunaan kolom ini adalah opsional apabila tidak ingin digunakan dalam analisis kedepannya."
   ]
  },
  {
   "cell_type": "code",
   "execution_count": 11,
   "metadata": {},
   "outputs": [],
   "source": [
    "# Dropping columns\n",
    "df.drop('APARTMENT NUMBER', axis=1, inplace=True)"
   ]
  },
  {
   "cell_type": "markdown",
   "metadata": {},
   "source": [
    "6. **GROSS SQUARE FEET (27612 missing values):**\n",
    "Kolom \"LAND SQUARE FEET\" berisi data numerik sehingga `rata-rata atau median` adalah penanganan yang tepat untuk menangani data numerik dengan missing value."
   ]
  },
  {
   "cell_type": "code",
   "execution_count": 12,
   "metadata": {},
   "outputs": [],
   "source": [
    "# Filling missing values with mean\n",
    "df['GROSS SQUARE FEET'].fillna(df['GROSS SQUARE FEET'].mean(), inplace=True)"
   ]
  },
  {
   "cell_type": "markdown",
   "metadata": {},
   "source": [
    "5. **LAND SQUARE FEET (26252 missing values):**\n",
    "Kolom \"LAND SQUARE FEET\" berisi data numerik sehingga `rata-rata atau median` adalah penanganan yang tepat untuk menangani data numerik dengan missing value. Menggunakan rata-rata dapat membantu mempertahankan distribusi data secara keseluruhan, sementara menggunakan median adalah pendekatan yang lebih kuat dan kurang sensitif terhadap pencilan."
   ]
  },
  {
   "cell_type": "code",
   "execution_count": 13,
   "metadata": {},
   "outputs": [],
   "source": [
    "# Filling missing values with mean\n",
    "df['LAND SQUARE FEET'].fillna(df['LAND SQUARE FEET'].mean(), inplace=True)"
   ]
  },
  {
   "cell_type": "markdown",
   "metadata": {},
   "source": [
    "7. **SALE PRICE (14561 missing values):**\n",
    "Kolom \"SALE PRICE\" mewakili harga jual properti. Untuk data numerik seperti ini, missing value dapat ditangani dengan rata-rata, median, atau nol untuk mempertahankan distribusi data. Pemilihan antara rata-rata dan median tergantung pada distribusi data dan sensitivitas terhadap pencilan. Dengan pertimbangan sebagai berikut:\n",
    "* Jika mengganti missing value dengan nilai nol, rata-rata dan median akan menurun secara signifikan. Data yang dihasilkan akan mencerminkan bahwa sebagian besar harga properti adalah nol, yang *mungkin tidak sesuai dengan kenyataan*.\n",
    "* Jika mengganti missing value dengan `median`, rata-rata dan median akan lebih mendekati nilai-nilai yang sebenarnya. Hal ini akan memengaruhi hasil analisis yang melibatkan statistik deskriptif sehingga `mendapatkan gambaran yang lebih akurat` tentang pusat sebaran.\n",
    "* Jika mengganti missing value dengan modus akan mengakibatkan semua properti yang hilang harganya memiliki nilai yang sama. Hal ini dapat *mengurangi variasi dalam data dan tidak mencerminkan keragaman*."
   ]
  },
  {
   "cell_type": "code",
   "execution_count": 14,
   "metadata": {},
   "outputs": [],
   "source": [
    "# Filling missing values with median\n",
    "df['SALE PRICE'].fillna(df['SALE PRICE'].median(), inplace=True)"
   ]
  },
  {
   "cell_type": "markdown",
   "metadata": {},
   "source": [
    "1. **TAX CLASS AT PRESENT (738 missing values):**\n",
    "Kolom \"TAX CLASS AT PRESENT\" berisi data kategorikal sehingga `modus` adalah penanganan yang tepat untuk menangani data kategorikal dengan missing value."
   ]
  },
  {
   "cell_type": "code",
   "execution_count": 15,
   "metadata": {},
   "outputs": [],
   "source": [
    "# Filling missing values with mode\n",
    "df['TAX CLASS AT PRESENT'].fillna(df['TAX CLASS AT PRESENT'].mode()[0], inplace=True)"
   ]
  },
  {
   "cell_type": "markdown",
   "metadata": {},
   "source": [
    "3. **BUILDING CLASS AT PRESENT (738 missing values):**\n",
    "Kolom \"BUILDING CLASS AT PRESENT\" berisi data kategorikal sehingga `modus` adalah penanganan yang tepat untuk menangani data kategorikal dengan missing value."
   ]
  },
  {
   "cell_type": "code",
   "execution_count": 16,
   "metadata": {},
   "outputs": [],
   "source": [
    "# Filling missing values with mode\n",
    "df['BUILDING CLASS AT PRESENT'].fillna(df['BUILDING CLASS AT PRESENT'].mode()[0], inplace=True)"
   ]
  },
  {
   "cell_type": "code",
   "execution_count": 17,
   "metadata": {},
   "outputs": [
    {
     "data": {
      "text/plain": [
       "2785"
      ]
     },
     "execution_count": 17,
     "metadata": {},
     "output_type": "execute_result"
    }
   ],
   "source": [
    "# Cek jumlah Duplikat yang sama persis\n",
    "df.duplicated().sum()"
   ]
  },
  {
   "cell_type": "code",
   "execution_count": 18,
   "metadata": {},
   "outputs": [],
   "source": [
    "# add a new \"YEAR\" column to the DataFrame, extracting the year from the \"SALE DATE\" column\n",
    "df[\"YEAR\"] = [i.year for i in df[\"SALE DATE\"]]\n",
    "\n",
    "# modifies the \"BUILDING CLASS AT PRESENT\" column by replacing its values with their first characters\n",
    "df[\"BUILDING CLASS AT PRESENT\"] = df[\"BUILDING CLASS AT PRESENT\"].str[0]"
   ]
  },
  {
   "cell_type": "code",
   "execution_count": 19,
   "metadata": {},
   "outputs": [
    {
     "data": {
      "image/png": "[encoded data removed]",
      "text/plain": [
       "<Figure size 2000x800 with 1 Axes>"
      ]
     },
     "metadata": {},
     "output_type": "display_data"
    }
   ],
   "source": [
    "with sns.axes_style(\"darkgrid\"):\n",
    "    plt.figure(figsize=(10,4),dpi=200)\n",
    "    sns.boxplot(data=df,x=\"SALE PRICE\",color=sns.color_palette(\"Pastel1\")[1])\n",
    "    plt.xlabel(\"Sales Price\")\n",
    "    plt.show()"
   ]
  },
  {
   "cell_type": "code",
   "execution_count": 20,
   "metadata": {},
   "outputs": [
    {
     "data": {
      "text/html": [
       "<div>\n",
       "<style scoped>\n",
       "    .dataframe tbody tr th:only-of-type {\n",
       "        vertical-align: middle;\n",
       "    }\n",
       "\n",
       "    .dataframe tbody tr th {\n",
       "        vertical-align: top;\n",
       "    }\n",
       "\n",
       "    .dataframe thead th {\n",
       "        text-align: right;\n",
       "    }\n",
       "</style>\n",
       "<table border=\"1\" class=\"dataframe\">\n",
       "  <thead>\n",
       "    <tr style=\"text-align: right;\">\n",
       "      <th></th>\n",
       "      <th>BOROUGH</th>\n",
       "      <th>NEIGHBORHOOD</th>\n",
       "      <th>BUILDING CLASS CATEGORY</th>\n",
       "      <th>TAX CLASS AT PRESENT</th>\n",
       "      <th>BUILDING CLASS AT PRESENT</th>\n",
       "      <th>ZIP CODE</th>\n",
       "      <th>RESIDENTIAL UNITS</th>\n",
       "      <th>COMMERCIAL UNITS</th>\n",
       "      <th>TOTAL UNITS</th>\n",
       "      <th>LAND SQUARE FEET</th>\n",
       "      <th>GROSS SQUARE FEET</th>\n",
       "      <th>YEAR BUILT</th>\n",
       "      <th>TAX CLASS AT TIME OF SALE</th>\n",
       "      <th>BUILDING CLASS AT TIME OF SALE</th>\n",
       "      <th>SALE PRICE</th>\n",
       "      <th>SALE DATE</th>\n",
       "      <th>YEAR</th>\n",
       "    </tr>\n",
       "  </thead>\n",
       "  <tbody>\n",
       "    <tr>\n",
       "      <th>1</th>\n",
       "      <td>Manhattan</td>\n",
       "      <td>ALPHABET CITY</td>\n",
       "      <td>07 RENTALS - WALKUP APARTMENTS</td>\n",
       "      <td>2</td>\n",
       "      <td>C</td>\n",
       "      <td>10009</td>\n",
       "      <td>28</td>\n",
       "      <td>3</td>\n",
       "      <td>31</td>\n",
       "      <td>4616.0</td>\n",
       "      <td>18690.0</td>\n",
       "      <td>1900</td>\n",
       "      <td>2</td>\n",
       "      <td>C7</td>\n",
       "      <td>530000.0</td>\n",
       "      <td>2016-12-14</td>\n",
       "      <td>2016</td>\n",
       "    </tr>\n",
       "    <tr>\n",
       "      <th>2</th>\n",
       "      <td>Manhattan</td>\n",
       "      <td>ALPHABET CITY</td>\n",
       "      <td>07 RENTALS - WALKUP APARTMENTS</td>\n",
       "      <td>2</td>\n",
       "      <td>C</td>\n",
       "      <td>10009</td>\n",
       "      <td>16</td>\n",
       "      <td>1</td>\n",
       "      <td>17</td>\n",
       "      <td>2212.0</td>\n",
       "      <td>7803.0</td>\n",
       "      <td>1900</td>\n",
       "      <td>2</td>\n",
       "      <td>C7</td>\n",
       "      <td>530000.0</td>\n",
       "      <td>2016-12-09</td>\n",
       "      <td>2016</td>\n",
       "    </tr>\n",
       "    <tr>\n",
       "      <th>5</th>\n",
       "      <td>Manhattan</td>\n",
       "      <td>ALPHABET CITY</td>\n",
       "      <td>07 RENTALS - WALKUP APARTMENTS</td>\n",
       "      <td>2</td>\n",
       "      <td>C</td>\n",
       "      <td>10009</td>\n",
       "      <td>20</td>\n",
       "      <td>0</td>\n",
       "      <td>20</td>\n",
       "      <td>2581.0</td>\n",
       "      <td>9730.0</td>\n",
       "      <td>1900</td>\n",
       "      <td>2</td>\n",
       "      <td>C4</td>\n",
       "      <td>530000.0</td>\n",
       "      <td>2017-07-20</td>\n",
       "      <td>2017</td>\n",
       "    </tr>\n",
       "    <tr>\n",
       "      <th>7</th>\n",
       "      <td>Manhattan</td>\n",
       "      <td>ALPHABET CITY</td>\n",
       "      <td>07 RENTALS - WALKUP APARTMENTS</td>\n",
       "      <td>2</td>\n",
       "      <td>C</td>\n",
       "      <td>10009</td>\n",
       "      <td>44</td>\n",
       "      <td>2</td>\n",
       "      <td>46</td>\n",
       "      <td>5163.0</td>\n",
       "      <td>21007.0</td>\n",
       "      <td>1900</td>\n",
       "      <td>2</td>\n",
       "      <td>C7</td>\n",
       "      <td>530000.0</td>\n",
       "      <td>2017-07-20</td>\n",
       "      <td>2017</td>\n",
       "    </tr>\n",
       "    <tr>\n",
       "      <th>8</th>\n",
       "      <td>Manhattan</td>\n",
       "      <td>ALPHABET CITY</td>\n",
       "      <td>08 RENTALS - ELEVATOR APARTMENTS</td>\n",
       "      <td>2</td>\n",
       "      <td>D</td>\n",
       "      <td>10009</td>\n",
       "      <td>15</td>\n",
       "      <td>0</td>\n",
       "      <td>15</td>\n",
       "      <td>1534.0</td>\n",
       "      <td>9198.0</td>\n",
       "      <td>1920</td>\n",
       "      <td>2</td>\n",
       "      <td>D5</td>\n",
       "      <td>530000.0</td>\n",
       "      <td>2017-06-20</td>\n",
       "      <td>2017</td>\n",
       "    </tr>\n",
       "  </tbody>\n",
       "</table>\n",
       "</div>"
      ],
      "text/plain": [
       "     BOROUGH   NEIGHBORHOOD                      BUILDING CLASS CATEGORY  \\\n",
       "1  Manhattan  ALPHABET CITY  07 RENTALS - WALKUP APARTMENTS                \n",
       "2  Manhattan  ALPHABET CITY  07 RENTALS - WALKUP APARTMENTS                \n",
       "5  Manhattan  ALPHABET CITY  07 RENTALS - WALKUP APARTMENTS                \n",
       "7  Manhattan  ALPHABET CITY  07 RENTALS - WALKUP APARTMENTS                \n",
       "8  Manhattan  ALPHABET CITY  08 RENTALS - ELEVATOR APARTMENTS              \n",
       "\n",
       "  TAX CLASS AT PRESENT BUILDING CLASS AT PRESENT ZIP CODE  RESIDENTIAL UNITS  \\\n",
       "1                    2                         C    10009                 28   \n",
       "2                    2                         C    10009                 16   \n",
       "5                    2                         C    10009                 20   \n",
       "7                    2                         C    10009                 44   \n",
       "8                    2                         D    10009                 15   \n",
       "\n",
       "   COMMERCIAL UNITS  TOTAL UNITS  LAND SQUARE FEET  GROSS SQUARE FEET  \\\n",
       "1                 3           31            4616.0            18690.0   \n",
       "2                 1           17            2212.0             7803.0   \n",
       "5                 0           20            2581.0             9730.0   \n",
       "7                 2           46            5163.0            21007.0   \n",
       "8                 0           15            1534.0             9198.0   \n",
       "\n",
       "  YEAR BUILT TAX CLASS AT TIME OF SALE BUILDING CLASS AT TIME OF SALE  \\\n",
       "1       1900                         2                             C7   \n",
       "2       1900                         2                             C7   \n",
       "5       1900                         2                             C4   \n",
       "7       1900                         2                             C7   \n",
       "8       1920                         2                             D5   \n",
       "\n",
       "   SALE PRICE  SALE DATE  YEAR  \n",
       "1    530000.0 2016-12-14  2016  \n",
       "2    530000.0 2016-12-09  2016  \n",
       "5    530000.0 2017-07-20  2017  \n",
       "7    530000.0 2017-07-20  2017  \n",
       "8    530000.0 2017-06-20  2017  "
      ]
     },
     "execution_count": 20,
     "metadata": {},
     "output_type": "execute_result"
    }
   ],
   "source": [
    "sale_price_q1 = df[\"SALE PRICE\"].describe().loc[\"25%\"]\n",
    "sale_price_q3 = df[\"SALE PRICE\"].describe().loc[\"75%\"]\n",
    "sale_price_iqr = sale_price_q3 - sale_price_q1\n",
    "\n",
    "sale_price_lower_limit = sale_price_q1 - (1.5 * sale_price_iqr)\n",
    "sale_price_upper_limit = sale_price_q3 + (1.5 * sale_price_iqr)\n",
    "\n",
    "df_without_outliers = df[(df[\"SALE PRICE\"] >= sale_price_lower_limit) & (df[\"SALE PRICE\"] <= sale_price_upper_limit)]\n",
    "df_without_outliers.head()"
   ]
  },
  {
   "cell_type": "code",
   "execution_count": 21,
   "metadata": {},
   "outputs": [
    {
     "data": {
      "image/png": "[encoded data removed]",
      "text/plain": [
       "<Figure size 2000x800 with 1 Axes>"
      ]
     },
     "metadata": {},
     "output_type": "display_data"
    }
   ],
   "source": [
    "with sns.axes_style(\"darkgrid\"):\n",
    "    plt.figure(figsize=(10,4),dpi=200)\n",
    "    sns.boxplot(data=df_without_outliers,x=\"SALE PRICE\",color=sns.color_palette(\"Pastel1\")[1])\n",
    "    plt.xlabel(\"Sales Price\")\n",
    "    plt.show()"
   ]
  },
  {
   "cell_type": "code",
   "execution_count": 22,
   "metadata": {},
   "outputs": [
    {
     "data": {
      "text/html": [
       "<div>\n",
       "<style scoped>\n",
       "    .dataframe tbody tr th:only-of-type {\n",
       "        vertical-align: middle;\n",
       "    }\n",
       "\n",
       "    .dataframe tbody tr th {\n",
       "        vertical-align: top;\n",
       "    }\n",
       "\n",
       "    .dataframe thead th {\n",
       "        text-align: right;\n",
       "    }\n",
       "</style>\n",
       "<table border=\"1\" class=\"dataframe\">\n",
       "  <thead>\n",
       "    <tr style=\"text-align: right;\">\n",
       "      <th></th>\n",
       "      <th>BOROUGH</th>\n",
       "      <th>NEIGHBORHOOD</th>\n",
       "      <th>BUILDING CLASS CATEGORY</th>\n",
       "      <th>TAX CLASS AT PRESENT</th>\n",
       "      <th>BUILDING CLASS AT PRESENT</th>\n",
       "      <th>ZIP CODE</th>\n",
       "      <th>RESIDENTIAL UNITS</th>\n",
       "      <th>COMMERCIAL UNITS</th>\n",
       "      <th>TOTAL UNITS</th>\n",
       "      <th>LAND SQUARE FEET</th>\n",
       "      <th>GROSS SQUARE FEET</th>\n",
       "      <th>YEAR BUILT</th>\n",
       "      <th>TAX CLASS AT TIME OF SALE</th>\n",
       "      <th>BUILDING CLASS AT TIME OF SALE</th>\n",
       "      <th>SALE PRICE</th>\n",
       "      <th>SALE DATE</th>\n",
       "      <th>YEAR</th>\n",
       "    </tr>\n",
       "  </thead>\n",
       "  <tbody>\n",
       "    <tr>\n",
       "      <th>1</th>\n",
       "      <td>Manhattan</td>\n",
       "      <td>ALPHABET CITY</td>\n",
       "      <td>07 RENTALS - WALKUP APARTMENTS</td>\n",
       "      <td>2</td>\n",
       "      <td>C</td>\n",
       "      <td>10009</td>\n",
       "      <td>28</td>\n",
       "      <td>3</td>\n",
       "      <td>31</td>\n",
       "      <td>4616.0</td>\n",
       "      <td>18690.0</td>\n",
       "      <td>1900</td>\n",
       "      <td>2</td>\n",
       "      <td>C7</td>\n",
       "      <td>530000.0</td>\n",
       "      <td>2016-12-14</td>\n",
       "      <td>2016</td>\n",
       "    </tr>\n",
       "    <tr>\n",
       "      <th>2</th>\n",
       "      <td>Manhattan</td>\n",
       "      <td>ALPHABET CITY</td>\n",
       "      <td>07 RENTALS - WALKUP APARTMENTS</td>\n",
       "      <td>2</td>\n",
       "      <td>C</td>\n",
       "      <td>10009</td>\n",
       "      <td>16</td>\n",
       "      <td>1</td>\n",
       "      <td>17</td>\n",
       "      <td>2212.0</td>\n",
       "      <td>7803.0</td>\n",
       "      <td>1900</td>\n",
       "      <td>2</td>\n",
       "      <td>C7</td>\n",
       "      <td>530000.0</td>\n",
       "      <td>2016-12-09</td>\n",
       "      <td>2016</td>\n",
       "    </tr>\n",
       "    <tr>\n",
       "      <th>5</th>\n",
       "      <td>Manhattan</td>\n",
       "      <td>ALPHABET CITY</td>\n",
       "      <td>07 RENTALS - WALKUP APARTMENTS</td>\n",
       "      <td>2</td>\n",
       "      <td>C</td>\n",
       "      <td>10009</td>\n",
       "      <td>20</td>\n",
       "      <td>0</td>\n",
       "      <td>20</td>\n",
       "      <td>2581.0</td>\n",
       "      <td>9730.0</td>\n",
       "      <td>1900</td>\n",
       "      <td>2</td>\n",
       "      <td>C4</td>\n",
       "      <td>530000.0</td>\n",
       "      <td>2017-07-20</td>\n",
       "      <td>2017</td>\n",
       "    </tr>\n",
       "    <tr>\n",
       "      <th>7</th>\n",
       "      <td>Manhattan</td>\n",
       "      <td>ALPHABET CITY</td>\n",
       "      <td>07 RENTALS - WALKUP APARTMENTS</td>\n",
       "      <td>2</td>\n",
       "      <td>C</td>\n",
       "      <td>10009</td>\n",
       "      <td>44</td>\n",
       "      <td>2</td>\n",
       "      <td>46</td>\n",
       "      <td>5163.0</td>\n",
       "      <td>21007.0</td>\n",
       "      <td>1900</td>\n",
       "      <td>2</td>\n",
       "      <td>C7</td>\n",
       "      <td>530000.0</td>\n",
       "      <td>2017-07-20</td>\n",
       "      <td>2017</td>\n",
       "    </tr>\n",
       "    <tr>\n",
       "      <th>8</th>\n",
       "      <td>Manhattan</td>\n",
       "      <td>ALPHABET CITY</td>\n",
       "      <td>08 RENTALS - ELEVATOR APARTMENTS</td>\n",
       "      <td>2</td>\n",
       "      <td>D</td>\n",
       "      <td>10009</td>\n",
       "      <td>15</td>\n",
       "      <td>0</td>\n",
       "      <td>15</td>\n",
       "      <td>1534.0</td>\n",
       "      <td>9198.0</td>\n",
       "      <td>1920</td>\n",
       "      <td>2</td>\n",
       "      <td>D5</td>\n",
       "      <td>530000.0</td>\n",
       "      <td>2017-06-20</td>\n",
       "      <td>2017</td>\n",
       "    </tr>\n",
       "  </tbody>\n",
       "</table>\n",
       "</div>"
      ],
      "text/plain": [
       "     BOROUGH   NEIGHBORHOOD                      BUILDING CLASS CATEGORY  \\\n",
       "1  Manhattan  ALPHABET CITY  07 RENTALS - WALKUP APARTMENTS                \n",
       "2  Manhattan  ALPHABET CITY  07 RENTALS - WALKUP APARTMENTS                \n",
       "5  Manhattan  ALPHABET CITY  07 RENTALS - WALKUP APARTMENTS                \n",
       "7  Manhattan  ALPHABET CITY  07 RENTALS - WALKUP APARTMENTS                \n",
       "8  Manhattan  ALPHABET CITY  08 RENTALS - ELEVATOR APARTMENTS              \n",
       "\n",
       "  TAX CLASS AT PRESENT BUILDING CLASS AT PRESENT ZIP CODE  RESIDENTIAL UNITS  \\\n",
       "1                    2                         C    10009                 28   \n",
       "2                    2                         C    10009                 16   \n",
       "5                    2                         C    10009                 20   \n",
       "7                    2                         C    10009                 44   \n",
       "8                    2                         D    10009                 15   \n",
       "\n",
       "   COMMERCIAL UNITS  TOTAL UNITS  LAND SQUARE FEET  GROSS SQUARE FEET  \\\n",
       "1                 3           31            4616.0            18690.0   \n",
       "2                 1           17            2212.0             7803.0   \n",
       "5                 0           20            2581.0             9730.0   \n",
       "7                 2           46            5163.0            21007.0   \n",
       "8                 0           15            1534.0             9198.0   \n",
       "\n",
       "  YEAR BUILT TAX CLASS AT TIME OF SALE BUILDING CLASS AT TIME OF SALE  \\\n",
       "1       1900                         2                             C7   \n",
       "2       1900                         2                             C7   \n",
       "5       1900                         2                             C4   \n",
       "7       1900                         2                             C7   \n",
       "8       1920                         2                             D5   \n",
       "\n",
       "   SALE PRICE  SALE DATE  YEAR  \n",
       "1    530000.0 2016-12-14  2016  \n",
       "2    530000.0 2016-12-09  2016  \n",
       "5    530000.0 2017-07-20  2017  \n",
       "7    530000.0 2017-07-20  2017  \n",
       "8    530000.0 2017-06-20  2017  "
      ]
     },
     "execution_count": 22,
     "metadata": {},
     "output_type": "execute_result"
    }
   ],
   "source": [
    "n = 1\n",
    "limit = 2\n",
    "\n",
    "while n <= limit:\n",
    "    sale_price_q1 = df_without_outliers[\"SALE PRICE\"].describe().loc[\"25%\"]\n",
    "    sale_price_q3 = df_without_outliers[\"SALE PRICE\"].describe().loc[\"75%\"]\n",
    "    sale_price_iqr = sale_price_q3 - sale_price_q1\n",
    "\n",
    "    sale_price_lower_limit = sale_price_q1 - (1.5 * sale_price_iqr)\n",
    "    sale_price_upper_limit = sale_price_q3 + (1.5 * sale_price_iqr)\n",
    "\n",
    "    df_without_outliers = df_without_outliers[(df_without_outliers[\"SALE PRICE\"] >= sale_price_lower_limit) & \n",
    "                                              (df_without_outliers[\"SALE PRICE\"] <= sale_price_upper_limit)]\n",
    "    \n",
    "    n += 1\n",
    "    \n",
    "df_without_outliers.head()"
   ]
  },
  {
   "cell_type": "code",
   "execution_count": 23,
   "metadata": {},
   "outputs": [
    {
     "data": {
      "image/png": "[encoded data removed]",
      "text/plain": [
       "<Figure size 2000x800 with 1 Axes>"
      ]
     },
     "metadata": {},
     "output_type": "display_data"
    }
   ],
   "source": [
    "with sns.axes_style(\"darkgrid\"):\n",
    "    plt.figure(figsize=(10,4),dpi=200)\n",
    "    sns.boxplot(data=df_without_outliers,x=\"SALE PRICE\",color=sns.color_palette(\"Pastel1\")[1])\n",
    "    plt.xlabel(\"Sales Price\")\n",
    "    plt.show()"
   ]
  },
  {
   "cell_type": "code",
   "execution_count": 24,
   "metadata": {},
   "outputs": [
    {
     "name": "stdout",
     "output_type": "stream",
     "text": [
      "         BOROUGH     SALE PRICE\n",
      "0      Manhattan  618574.885256\n",
      "1          Bronx  273872.790496\n",
      "2       Brooklyn  341822.896140\n",
      "3         Queens  510330.041657\n",
      "4  Staten Island  484420.351420\n"
     ]
    },
    {
     "data": {
      "image/png": "[encoded data removed]",
      "text/plain": [
       "<Figure size 2000x800 with 1 Axes>"
      ]
     },
     "metadata": {},
     "output_type": "display_data"
    }
   ],
   "source": [
    "# Group by 'BOROUGH', then calculate the mean of 'SALE PRICE'\n",
    "mean_sale_price = df_without_outliers.groupby(['BOROUGH'])['SALE PRICE'].mean().reset_index()\n",
    "\n",
    "# Print the result\n",
    "print(mean_sale_price)\n",
    "\n",
    "plt.figure(figsize=(10,4),dpi=200)\n",
    "ax = sns.barplot(data=mean_sale_price,x='BOROUGH', y='SALE PRICE')\n",
    "\n",
    "for i in ax.containers:\n",
    "    ax.bar_label(i,)\n",
    "\n",
    "plt.title(\"blm\")\n",
    "plt.show()"
   ]
  },
  {
   "cell_type": "code",
   "execution_count": 25,
   "metadata": {},
   "outputs": [
    {
     "name": "stdout",
     "output_type": "stream",
     "text": [
      "         BOROUGH  GROSS SQUARE FEET\n",
      "0      Manhattan        4045.707479\n",
      "1          Bronx        1690.000000\n",
      "2       Brooklyn        1424.000000\n",
      "3         Queens        2348.000000\n",
      "4  Staten Island        1800.000000\n"
     ]
    },
    {
     "data": {
      "image/png": "[encoded data removed]",
      "text/plain": [
       "<Figure size 2000x800 with 1 Axes>"
      ]
     },
     "metadata": {},
     "output_type": "display_data"
    }
   ],
   "source": [
    "# Group by 'BOROUGH', then calculate the median of 'GROSS SQUARE FEET'\n",
    "median_sale_price = df_without_outliers.groupby(['BOROUGH'])['GROSS SQUARE FEET'].median().reset_index()\n",
    "\n",
    "# Print the result\n",
    "print(median_sale_price)\n",
    "\n",
    "plt.figure(figsize=(10,4),dpi=200)\n",
    "ax = sns.barplot(data=median_sale_price,y='BOROUGH', x='GROSS SQUARE FEET',orient='h')\n",
    "\n",
    "for i in ax.containers:\n",
    "    ax.bar_label(i,)\n",
    "\n",
    "plt.title(\"blm\")\n",
    "plt.show()"
   ]
  },
  {
   "cell_type": "code",
   "execution_count": 26,
   "metadata": {},
   "outputs": [
    {
     "name": "stdout",
     "output_type": "stream",
     "text": [
      "                         BUILDING CLASS CATEGORY  Counts\n",
      "0    01 ONE FAMILY DWELLINGS                       17436\n",
      "1    02 TWO FAMILY DWELLINGS                       14547\n",
      "2    10 COOPS - ELEVATOR APARTMENTS                11155\n",
      "3    13 CONDOS - ELEVATOR APARTMENTS                8288\n",
      "4    03 THREE FAMILY DWELLINGS                      3760\n",
      "5    09 COOPS - WALKUP APARTMENTS                   2590\n",
      "6    07 RENTALS - WALKUP APARTMENTS                 2347\n",
      "7    04 TAX CLASS 1 CONDOS                          1578\n",
      "8    44 CONDO PARKING                               1433\n",
      "9    05 TAX CLASS 1 VACANT LAND                     1190\n",
      "10   15 CONDOS - 2-10 UNIT RESIDENTIAL               957\n",
      "11   17 CONDO COOPS                                  941\n",
      "12   12 CONDOS - WALKUP APARTMENTS                   866\n",
      "13   22 STORE BUILDINGS                              649\n",
      "14   14 RENTALS - 4-10 UNIT                          479\n",
      "15   29 COMMERCIAL GARAGES                           452\n",
      "16   31 COMMERCIAL VACANT LAND                       385\n",
      "17   47 CONDO NON-BUSINESS STORAGE                   377\n",
      "18   43 CONDO OFFICE BUILDINGS                       332\n",
      "19   21 OFFICE BUILDINGS                             201\n",
      "20   30 WAREHOUSES                                   195\n",
      "21   45 CONDO HOTELS                                 195\n",
      "22   08 RENTALS - ELEVATOR APARTMENTS                187\n",
      "23   06 TAX CLASS 1 - OTHER                          175\n",
      "24   41 TAX CLASS 4 - OTHER                          138\n",
      "25   27 FACTORIES                                    121\n",
      "26   46 CONDO STORE BUILDINGS                        103\n",
      "27   26 OTHER HOTELS                                  84\n",
      "28   16 CONDOS - 2-10 UNIT WITH COMMERCIAL UNIT       70\n",
      "29   37 RELIGIOUS FACILITIES                          69\n",
      "30   33 EDUCATIONAL FACILITIES                        53\n",
      "31   48 CONDO TERRACES/GARDENS/CABANAS                45\n",
      "32   32 HOSPITAL AND HEALTH FACILITIES                37\n",
      "33   49 CONDO WAREHOUSES/FACTORY/INDUS                30\n",
      "34  11A CONDO-RENTALS                                 30\n",
      "35   23 LOFT BUILDINGS                                28\n",
      "36   35 INDOOR PUBLIC AND CULTURAL FACILITIES         23\n",
      "37   28 COMMERCIAL CONDOS                             22\n",
      "38   38 ASYLUMS AND HOMES                             12\n",
      "39   42 CONDO CULTURAL/MEDICAL/EDUCATIONAL/ETC        11\n",
      "40   36 OUTDOOR RECREATIONAL FACILITIES               11\n",
      "41   34 THEATRES                                       7\n",
      "42   25 LUXURY HOTELS                                  4\n",
      "43   18 TAX CLASS 3 - UNTILITY PROPERTIES              4\n",
      "44   39 TRANSPORTATION FACILITIES                      2\n",
      "45   11 SPECIAL CONDO BILLING LOTS                     2\n",
      "46   40 SELECTED GOVERNMENTAL FACILITIES               1\n"
     ]
    }
   ],
   "source": [
    "# Calculate the mode of BUILDING CLASS CATEGORY\n",
    "mode_building_class = df_without_outliers['BUILDING CLASS CATEGORY'].mode().iloc[0]\n",
    "\n",
    "# Calculate the frequency of each BUILDING CLASS CATEGORY\n",
    "building_class_counts_df = df_without_outliers['BUILDING CLASS CATEGORY'].value_counts().reset_index()\n",
    "\n",
    "# Create a DataFrame from the frequency calculations\n",
    "building_class_counts_df.columns = ['BUILDING CLASS CATEGORY', 'Counts']\n",
    "\n",
    "print(building_class_counts_df)"
   ]
  },
  {
   "cell_type": "code",
   "execution_count": 27,
   "metadata": {},
   "outputs": [
    {
     "data": {
      "application/vnd.plotly.v1+json": {
       "config": {
        "plotlyServerURL": "https://plot.ly"
       },
       "data": [
        {
         "alignmentgroup": "True",
         "hovertemplate": "BUILDING CLASS CATEGORY=%{y}<br>Counts=%{x}<extra></extra>",
         "legendgroup": "01 ONE FAMILY DWELLINGS                    ",
         "marker": {
          "color": "#636efa",
          "pattern": {
           "shape": ""
          }
         },
         "name": "01 ONE FAMILY DWELLINGS                    ",
         "offsetgroup": "01 ONE FAMILY DWELLINGS                    ",
         "orientation": "h",
         "showlegend": true,
         "textposition": "auto",
         "type": "bar",
         "x": [
          17436
         ],
         "xaxis": "x",
         "y": [
          "01 ONE FAMILY DWELLINGS                    "
         ],
         "yaxis": "y"
        },
        {
         "alignmentgroup": "True",
         "hovertemplate": "BUILDING CLASS CATEGORY=%{y}<br>Counts=%{x}<extra></extra>",
         "legendgroup": "02 TWO FAMILY DWELLINGS                    ",
         "marker": {
          "color": "#EF553B",
          "pattern": {
           "shape": ""
          }
         },
         "name": "02 TWO FAMILY DWELLINGS                    ",
         "offsetgroup": "02 TWO FAMILY DWELLINGS                    ",
         "orientation": "h",
         "showlegend": true,
         "textposition": "auto",
         "type": "bar",
         "x": [
          14547
         ],
         "xaxis": "x",
         "y": [
          "02 TWO FAMILY DWELLINGS                    "
         ],
         "yaxis": "y"
        },
        {
         "alignmentgroup": "True",
         "hovertemplate": "BUILDING CLASS CATEGORY=%{y}<br>Counts=%{x}<extra></extra>",
         "legendgroup": "10 COOPS - ELEVATOR APARTMENTS             ",
         "marker": {
          "color": "#00cc96",
          "pattern": {
           "shape": ""
          }
         },
         "name": "10 COOPS - ELEVATOR APARTMENTS             ",
         "offsetgroup": "10 COOPS - ELEVATOR APARTMENTS             ",
         "orientation": "h",
         "showlegend": true,
         "textposition": "auto",
         "type": "bar",
         "x": [
          11155
         ],
         "xaxis": "x",
         "y": [
          "10 COOPS - ELEVATOR APARTMENTS             "
         ],
         "yaxis": "y"
        },
        {
         "alignmentgroup": "True",
         "hovertemplate": "BUILDING CLASS CATEGORY=%{y}<br>Counts=%{x}<extra></extra>",
         "legendgroup": "13 CONDOS - ELEVATOR APARTMENTS            ",
         "marker": {
          "color": "#ab63fa",
          "pattern": {
           "shape": ""
          }
         },
         "name": "13 CONDOS - ELEVATOR APARTMENTS            ",
         "offsetgroup": "13 CONDOS - ELEVATOR APARTMENTS            ",
         "orientation": "h",
         "showlegend": true,
         "textposition": "auto",
         "type": "bar",
         "x": [
          8288
         ],
         "xaxis": "x",
         "y": [
          "13 CONDOS - ELEVATOR APARTMENTS            "
         ],
         "yaxis": "y"
        },
        {
         "alignmentgroup": "True",
         "hovertemplate": "BUILDING CLASS CATEGORY=%{y}<br>Counts=%{x}<extra></extra>",
         "legendgroup": "03 THREE FAMILY DWELLINGS                  ",
         "marker": {
          "color": "#FFA15A",
          "pattern": {
           "shape": ""
          }
         },
         "name": "03 THREE FAMILY DWELLINGS                  ",
         "offsetgroup": "03 THREE FAMILY DWELLINGS                  ",
         "orientation": "h",
         "showlegend": true,
         "textposition": "auto",
         "type": "bar",
         "x": [
          3760
         ],
         "xaxis": "x",
         "y": [
          "03 THREE FAMILY DWELLINGS                  "
         ],
         "yaxis": "y"
        },
        {
         "alignmentgroup": "True",
         "hovertemplate": "BUILDING CLASS CATEGORY=%{y}<br>Counts=%{x}<extra></extra>",
         "legendgroup": "09 COOPS - WALKUP APARTMENTS               ",
         "marker": {
          "color": "#19d3f3",
          "pattern": {
           "shape": ""
          }
         },
         "name": "09 COOPS - WALKUP APARTMENTS               ",
         "offsetgroup": "09 COOPS - WALKUP APARTMENTS               ",
         "orientation": "h",
         "showlegend": true,
         "textposition": "auto",
         "type": "bar",
         "x": [
          2590
         ],
         "xaxis": "x",
         "y": [
          "09 COOPS - WALKUP APARTMENTS               "
         ],
         "yaxis": "y"
        },
        {
         "alignmentgroup": "True",
         "hovertemplate": "BUILDING CLASS CATEGORY=%{y}<br>Counts=%{x}<extra></extra>",
         "legendgroup": "07 RENTALS - WALKUP APARTMENTS             ",
         "marker": {
          "color": "#FF6692",
          "pattern": {
           "shape": ""
          }
         },
         "name": "07 RENTALS - WALKUP APARTMENTS             ",
         "offsetgroup": "07 RENTALS - WALKUP APARTMENTS             ",
         "orientation": "h",
         "showlegend": true,
         "textposition": "auto",
         "type": "bar",
         "x": [
          2347
         ],
         "xaxis": "x",
         "y": [
          "07 RENTALS - WALKUP APARTMENTS             "
         ],
         "yaxis": "y"
        },
        {
         "alignmentgroup": "True",
         "hovertemplate": "BUILDING CLASS CATEGORY=%{y}<br>Counts=%{x}<extra></extra>",
         "legendgroup": "04 TAX CLASS 1 CONDOS                      ",
         "marker": {
          "color": "#B6E880",
          "pattern": {
           "shape": ""
          }
         },
         "name": "04 TAX CLASS 1 CONDOS                      ",
         "offsetgroup": "04 TAX CLASS 1 CONDOS                      ",
         "orientation": "h",
         "showlegend": true,
         "textposition": "auto",
         "type": "bar",
         "x": [
          1578
         ],
         "xaxis": "x",
         "y": [
          "04 TAX CLASS 1 CONDOS                      "
         ],
         "yaxis": "y"
        },
        {
         "alignmentgroup": "True",
         "hovertemplate": "BUILDING CLASS CATEGORY=%{y}<br>Counts=%{x}<extra></extra>",
         "legendgroup": "44 CONDO PARKING                           ",
         "marker": {
          "color": "#FF97FF",
          "pattern": {
           "shape": ""
          }
         },
         "name": "44 CONDO PARKING                           ",
         "offsetgroup": "44 CONDO PARKING                           ",
         "orientation": "h",
         "showlegend": true,
         "textposition": "auto",
         "type": "bar",
         "x": [
          1433
         ],
         "xaxis": "x",
         "y": [
          "44 CONDO PARKING                           "
         ],
         "yaxis": "y"
        },
        {
         "alignmentgroup": "True",
         "hovertemplate": "BUILDING CLASS CATEGORY=%{y}<br>Counts=%{x}<extra></extra>",
         "legendgroup": "05 TAX CLASS 1 VACANT LAND                 ",
         "marker": {
          "color": "#FECB52",
          "pattern": {
           "shape": ""
          }
         },
         "name": "05 TAX CLASS 1 VACANT LAND                 ",
         "offsetgroup": "05 TAX CLASS 1 VACANT LAND                 ",
         "orientation": "h",
         "showlegend": true,
         "textposition": "auto",
         "type": "bar",
         "x": [
          1190
         ],
         "xaxis": "x",
         "y": [
          "05 TAX CLASS 1 VACANT LAND                 "
         ],
         "yaxis": "y"
        },
        {
         "alignmentgroup": "True",
         "hovertemplate": "BUILDING CLASS CATEGORY=%{y}<br>Counts=%{x}<extra></extra>",
         "legendgroup": "15 CONDOS - 2-10 UNIT RESIDENTIAL          ",
         "marker": {
          "color": "#636efa",
          "pattern": {
           "shape": ""
          }
         },
         "name": "15 CONDOS - 2-10 UNIT RESIDENTIAL          ",
         "offsetgroup": "15 CONDOS - 2-10 UNIT RESIDENTIAL          ",
         "orientation": "h",
         "showlegend": true,
         "textposition": "auto",
         "type": "bar",
         "x": [
          957
         ],
         "xaxis": "x",
         "y": [
          "15 CONDOS - 2-10 UNIT RESIDENTIAL          "
         ],
         "yaxis": "y"
        },
        {
         "alignmentgroup": "True",
         "hovertemplate": "BUILDING CLASS CATEGORY=%{y}<br>Counts=%{x}<extra></extra>",
         "legendgroup": "17 CONDO COOPS                             ",
         "marker": {
          "color": "#EF553B",
          "pattern": {
           "shape": ""
          }
         },
         "name": "17 CONDO COOPS                             ",
         "offsetgroup": "17 CONDO COOPS                             ",
         "orientation": "h",
         "showlegend": true,
         "textposition": "auto",
         "type": "bar",
         "x": [
          941
         ],
         "xaxis": "x",
         "y": [
          "17 CONDO COOPS                             "
         ],
         "yaxis": "y"
        },
        {
         "alignmentgroup": "True",
         "hovertemplate": "BUILDING CLASS CATEGORY=%{y}<br>Counts=%{x}<extra></extra>",
         "legendgroup": "12 CONDOS - WALKUP APARTMENTS              ",
         "marker": {
          "color": "#00cc96",
          "pattern": {
           "shape": ""
          }
         },
         "name": "12 CONDOS - WALKUP APARTMENTS              ",
         "offsetgroup": "12 CONDOS - WALKUP APARTMENTS              ",
         "orientation": "h",
         "showlegend": true,
         "textposition": "auto",
         "type": "bar",
         "x": [
          866
         ],
         "xaxis": "x",
         "y": [
          "12 CONDOS - WALKUP APARTMENTS              "
         ],
         "yaxis": "y"
        },
        {
         "alignmentgroup": "True",
         "hovertemplate": "BUILDING CLASS CATEGORY=%{y}<br>Counts=%{x}<extra></extra>",
         "legendgroup": "22 STORE BUILDINGS                         ",
         "marker": {
          "color": "#ab63fa",
          "pattern": {
           "shape": ""
          }
         },
         "name": "22 STORE BUILDINGS                         ",
         "offsetgroup": "22 STORE BUILDINGS                         ",
         "orientation": "h",
         "showlegend": true,
         "textposition": "auto",
         "type": "bar",
         "x": [
          649
         ],
         "xaxis": "x",
         "y": [
          "22 STORE BUILDINGS                         "
         ],
         "yaxis": "y"
        },
        {
         "alignmentgroup": "True",
         "hovertemplate": "BUILDING CLASS CATEGORY=%{y}<br>Counts=%{x}<extra></extra>",
         "legendgroup": "14 RENTALS - 4-10 UNIT                     ",
         "marker": {
          "color": "#FFA15A",
          "pattern": {
           "shape": ""
          }
         },
         "name": "14 RENTALS - 4-10 UNIT                     ",
         "offsetgroup": "14 RENTALS - 4-10 UNIT                     ",
         "orientation": "h",
         "showlegend": true,
         "textposition": "auto",
         "type": "bar",
         "x": [
          479
         ],
         "xaxis": "x",
         "y": [
          "14 RENTALS - 4-10 UNIT                     "
         ],
         "yaxis": "y"
        },
        {
         "alignmentgroup": "True",
         "hovertemplate": "BUILDING CLASS CATEGORY=%{y}<br>Counts=%{x}<extra></extra>",
         "legendgroup": "29 COMMERCIAL GARAGES                      ",
         "marker": {
          "color": "#19d3f3",
          "pattern": {
           "shape": ""
          }
         },
         "name": "29 COMMERCIAL GARAGES                      ",
         "offsetgroup": "29 COMMERCIAL GARAGES                      ",
         "orientation": "h",
         "showlegend": true,
         "textposition": "auto",
         "type": "bar",
         "x": [
          452
         ],
         "xaxis": "x",
         "y": [
          "29 COMMERCIAL GARAGES                      "
         ],
         "yaxis": "y"
        },
        {
         "alignmentgroup": "True",
         "hovertemplate": "BUILDING CLASS CATEGORY=%{y}<br>Counts=%{x}<extra></extra>",
         "legendgroup": "31 COMMERCIAL VACANT LAND                  ",
         "marker": {
          "color": "#FF6692",
          "pattern": {
           "shape": ""
          }
         },
         "name": "31 COMMERCIAL VACANT LAND                  ",
         "offsetgroup": "31 COMMERCIAL VACANT LAND                  ",
         "orientation": "h",
         "showlegend": true,
         "textposition": "auto",
         "type": "bar",
         "x": [
          385
         ],
         "xaxis": "x",
         "y": [
          "31 COMMERCIAL VACANT LAND                  "
         ],
         "yaxis": "y"
        },
        {
         "alignmentgroup": "True",
         "hovertemplate": "BUILDING CLASS CATEGORY=%{y}<br>Counts=%{x}<extra></extra>",
         "legendgroup": "47 CONDO NON-BUSINESS STORAGE              ",
         "marker": {
          "color": "#B6E880",
          "pattern": {
           "shape": ""
          }
         },
         "name": "47 CONDO NON-BUSINESS STORAGE              ",
         "offsetgroup": "47 CONDO NON-BUSINESS STORAGE              ",
         "orientation": "h",
         "showlegend": true,
         "textposition": "auto",
         "type": "bar",
         "x": [
          377
         ],
         "xaxis": "x",
         "y": [
          "47 CONDO NON-BUSINESS STORAGE              "
         ],
         "yaxis": "y"
        },
        {
         "alignmentgroup": "True",
         "hovertemplate": "BUILDING CLASS CATEGORY=%{y}<br>Counts=%{x}<extra></extra>",
         "legendgroup": "43 CONDO OFFICE BUILDINGS                  ",
         "marker": {
          "color": "#FF97FF",
          "pattern": {
           "shape": ""
          }
         },
         "name": "43 CONDO OFFICE BUILDINGS                  ",
         "offsetgroup": "43 CONDO OFFICE BUILDINGS                  ",
         "orientation": "h",
         "showlegend": true,
         "textposition": "auto",
         "type": "bar",
         "x": [
          332
         ],
         "xaxis": "x",
         "y": [
          "43 CONDO OFFICE BUILDINGS                  "
         ],
         "yaxis": "y"
        },
        {
         "alignmentgroup": "True",
         "hovertemplate": "BUILDING CLASS CATEGORY=%{y}<br>Counts=%{x}<extra></extra>",
         "legendgroup": "21 OFFICE BUILDINGS                        ",
         "marker": {
          "color": "#FECB52",
          "pattern": {
           "shape": ""
          }
         },
         "name": "21 OFFICE BUILDINGS                        ",
         "offsetgroup": "21 OFFICE BUILDINGS                        ",
         "orientation": "h",
         "showlegend": true,
         "textposition": "auto",
         "type": "bar",
         "x": [
          201
         ],
         "xaxis": "x",
         "y": [
          "21 OFFICE BUILDINGS                        "
         ],
         "yaxis": "y"
        },
        {
         "alignmentgroup": "True",
         "hovertemplate": "BUILDING CLASS CATEGORY=%{y}<br>Counts=%{x}<extra></extra>",
         "legendgroup": "30 WAREHOUSES                              ",
         "marker": {
          "color": "#636efa",
          "pattern": {
           "shape": ""
          }
         },
         "name": "30 WAREHOUSES                              ",
         "offsetgroup": "30 WAREHOUSES                              ",
         "orientation": "h",
         "showlegend": true,
         "textposition": "auto",
         "type": "bar",
         "x": [
          195
         ],
         "xaxis": "x",
         "y": [
          "30 WAREHOUSES                              "
         ],
         "yaxis": "y"
        },
        {
         "alignmentgroup": "True",
         "hovertemplate": "BUILDING CLASS CATEGORY=%{y}<br>Counts=%{x}<extra></extra>",
         "legendgroup": "45 CONDO HOTELS                            ",
         "marker": {
          "color": "#EF553B",
          "pattern": {
           "shape": ""
          }
         },
         "name": "45 CONDO HOTELS                            ",
         "offsetgroup": "45 CONDO HOTELS                            ",
         "orientation": "h",
         "showlegend": true,
         "textposition": "auto",
         "type": "bar",
         "x": [
          195
         ],
         "xaxis": "x",
         "y": [
          "45 CONDO HOTELS                            "
         ],
         "yaxis": "y"
        },
        {
         "alignmentgroup": "True",
         "hovertemplate": "BUILDING CLASS CATEGORY=%{y}<br>Counts=%{x}<extra></extra>",
         "legendgroup": "08 RENTALS - ELEVATOR APARTMENTS           ",
         "marker": {
          "color": "#00cc96",
          "pattern": {
           "shape": ""
          }
         },
         "name": "08 RENTALS - ELEVATOR APARTMENTS           ",
         "offsetgroup": "08 RENTALS - ELEVATOR APARTMENTS           ",
         "orientation": "h",
         "showlegend": true,
         "textposition": "auto",
         "type": "bar",
         "x": [
          187
         ],
         "xaxis": "x",
         "y": [
          "08 RENTALS - ELEVATOR APARTMENTS           "
         ],
         "yaxis": "y"
        },
        {
         "alignmentgroup": "True",
         "hovertemplate": "BUILDING CLASS CATEGORY=%{y}<br>Counts=%{x}<extra></extra>",
         "legendgroup": "06 TAX CLASS 1 - OTHER                     ",
         "marker": {
          "color": "#ab63fa",
          "pattern": {
           "shape": ""
          }
         },
         "name": "06 TAX CLASS 1 - OTHER                     ",
         "offsetgroup": "06 TAX CLASS 1 - OTHER                     ",
         "orientation": "h",
         "showlegend": true,
         "textposition": "auto",
         "type": "bar",
         "x": [
          175
         ],
         "xaxis": "x",
         "y": [
          "06 TAX CLASS 1 - OTHER                     "
         ],
         "yaxis": "y"
        },
        {
         "alignmentgroup": "True",
         "hovertemplate": "BUILDING CLASS CATEGORY=%{y}<br>Counts=%{x}<extra></extra>",
         "legendgroup": "41 TAX CLASS 4 - OTHER                     ",
         "marker": {
          "color": "#FFA15A",
          "pattern": {
           "shape": ""
          }
         },
         "name": "41 TAX CLASS 4 - OTHER                     ",
         "offsetgroup": "41 TAX CLASS 4 - OTHER                     ",
         "orientation": "h",
         "showlegend": true,
         "textposition": "auto",
         "type": "bar",
         "x": [
          138
         ],
         "xaxis": "x",
         "y": [
          "41 TAX CLASS 4 - OTHER                     "
         ],
         "yaxis": "y"
        },
        {
         "alignmentgroup": "True",
         "hovertemplate": "BUILDING CLASS CATEGORY=%{y}<br>Counts=%{x}<extra></extra>",
         "legendgroup": "27 FACTORIES                               ",
         "marker": {
          "color": "#19d3f3",
          "pattern": {
           "shape": ""
          }
         },
         "name": "27 FACTORIES                               ",
         "offsetgroup": "27 FACTORIES                               ",
         "orientation": "h",
         "showlegend": true,
         "textposition": "auto",
         "type": "bar",
         "x": [
          121
         ],
         "xaxis": "x",
         "y": [
          "27 FACTORIES                               "
         ],
         "yaxis": "y"
        },
        {
         "alignmentgroup": "True",
         "hovertemplate": "BUILDING CLASS CATEGORY=%{y}<br>Counts=%{x}<extra></extra>",
         "legendgroup": "46 CONDO STORE BUILDINGS                   ",
         "marker": {
          "color": "#FF6692",
          "pattern": {
           "shape": ""
          }
         },
         "name": "46 CONDO STORE BUILDINGS                   ",
         "offsetgroup": "46 CONDO STORE BUILDINGS                   ",
         "orientation": "h",
         "showlegend": true,
         "textposition": "auto",
         "type": "bar",
         "x": [
          103
         ],
         "xaxis": "x",
         "y": [
          "46 CONDO STORE BUILDINGS                   "
         ],
         "yaxis": "y"
        },
        {
         "alignmentgroup": "True",
         "hovertemplate": "BUILDING CLASS CATEGORY=%{y}<br>Counts=%{x}<extra></extra>",
         "legendgroup": "26 OTHER HOTELS                            ",
         "marker": {
          "color": "#B6E880",
          "pattern": {
           "shape": ""
          }
         },
         "name": "26 OTHER HOTELS                            ",
         "offsetgroup": "26 OTHER HOTELS                            ",
         "orientation": "h",
         "showlegend": true,
         "textposition": "auto",
         "type": "bar",
         "x": [
          84
         ],
         "xaxis": "x",
         "y": [
          "26 OTHER HOTELS                            "
         ],
         "yaxis": "y"
        },
        {
         "alignmentgroup": "True",
         "hovertemplate": "BUILDING CLASS CATEGORY=%{y}<br>Counts=%{x}<extra></extra>",
         "legendgroup": "16 CONDOS - 2-10 UNIT WITH COMMERCIAL UNIT ",
         "marker": {
          "color": "#FF97FF",
          "pattern": {
           "shape": ""
          }
         },
         "name": "16 CONDOS - 2-10 UNIT WITH COMMERCIAL UNIT ",
         "offsetgroup": "16 CONDOS - 2-10 UNIT WITH COMMERCIAL UNIT ",
         "orientation": "h",
         "showlegend": true,
         "textposition": "auto",
         "type": "bar",
         "x": [
          70
         ],
         "xaxis": "x",
         "y": [
          "16 CONDOS - 2-10 UNIT WITH COMMERCIAL UNIT "
         ],
         "yaxis": "y"
        },
        {
         "alignmentgroup": "True",
         "hovertemplate": "BUILDING CLASS CATEGORY=%{y}<br>Counts=%{x}<extra></extra>",
         "legendgroup": "37 RELIGIOUS FACILITIES                    ",
         "marker": {
          "color": "#FECB52",
          "pattern": {
           "shape": ""
          }
         },
         "name": "37 RELIGIOUS FACILITIES                    ",
         "offsetgroup": "37 RELIGIOUS FACILITIES                    ",
         "orientation": "h",
         "showlegend": true,
         "textposition": "auto",
         "type": "bar",
         "x": [
          69
         ],
         "xaxis": "x",
         "y": [
          "37 RELIGIOUS FACILITIES                    "
         ],
         "yaxis": "y"
        },
        {
         "alignmentgroup": "True",
         "hovertemplate": "BUILDING CLASS CATEGORY=%{y}<br>Counts=%{x}<extra></extra>",
         "legendgroup": "33 EDUCATIONAL FACILITIES                  ",
         "marker": {
          "color": "#636efa",
          "pattern": {
           "shape": ""
          }
         },
         "name": "33 EDUCATIONAL FACILITIES                  ",
         "offsetgroup": "33 EDUCATIONAL FACILITIES                  ",
         "orientation": "h",
         "showlegend": true,
         "textposition": "auto",
         "type": "bar",
         "x": [
          53
         ],
         "xaxis": "x",
         "y": [
          "33 EDUCATIONAL FACILITIES                  "
         ],
         "yaxis": "y"
        },
        {
         "alignmentgroup": "True",
         "hovertemplate": "BUILDING CLASS CATEGORY=%{y}<br>Counts=%{x}<extra></extra>",
         "legendgroup": "48 CONDO TERRACES/GARDENS/CABANAS          ",
         "marker": {
          "color": "#EF553B",
          "pattern": {
           "shape": ""
          }
         },
         "name": "48 CONDO TERRACES/GARDENS/CABANAS          ",
         "offsetgroup": "48 CONDO TERRACES/GARDENS/CABANAS          ",
         "orientation": "h",
         "showlegend": true,
         "textposition": "auto",
         "type": "bar",
         "x": [
          45
         ],
         "xaxis": "x",
         "y": [
          "48 CONDO TERRACES/GARDENS/CABANAS          "
         ],
         "yaxis": "y"
        },
        {
         "alignmentgroup": "True",
         "hovertemplate": "BUILDING CLASS CATEGORY=%{y}<br>Counts=%{x}<extra></extra>",
         "legendgroup": "32 HOSPITAL AND HEALTH FACILITIES          ",
         "marker": {
          "color": "#00cc96",
          "pattern": {
           "shape": ""
          }
         },
         "name": "32 HOSPITAL AND HEALTH FACILITIES          ",
         "offsetgroup": "32 HOSPITAL AND HEALTH FACILITIES          ",
         "orientation": "h",
         "showlegend": true,
         "textposition": "auto",
         "type": "bar",
         "x": [
          37
         ],
         "xaxis": "x",
         "y": [
          "32 HOSPITAL AND HEALTH FACILITIES          "
         ],
         "yaxis": "y"
        },
        {
         "alignmentgroup": "True",
         "hovertemplate": "BUILDING CLASS CATEGORY=%{y}<br>Counts=%{x}<extra></extra>",
         "legendgroup": "49 CONDO WAREHOUSES/FACTORY/INDUS          ",
         "marker": {
          "color": "#ab63fa",
          "pattern": {
           "shape": ""
          }
         },
         "name": "49 CONDO WAREHOUSES/FACTORY/INDUS          ",
         "offsetgroup": "49 CONDO WAREHOUSES/FACTORY/INDUS          ",
         "orientation": "h",
         "showlegend": true,
         "textposition": "auto",
         "type": "bar",
         "x": [
          30
         ],
         "xaxis": "x",
         "y": [
          "49 CONDO WAREHOUSES/FACTORY/INDUS          "
         ],
         "yaxis": "y"
        },
        {
         "alignmentgroup": "True",
         "hovertemplate": "BUILDING CLASS CATEGORY=%{y}<br>Counts=%{x}<extra></extra>",
         "legendgroup": "11A CONDO-RENTALS                           ",
         "marker": {
          "color": "#FFA15A",
          "pattern": {
           "shape": ""
          }
         },
         "name": "11A CONDO-RENTALS                           ",
         "offsetgroup": "11A CONDO-RENTALS                           ",
         "orientation": "h",
         "showlegend": true,
         "textposition": "auto",
         "type": "bar",
         "x": [
          30
         ],
         "xaxis": "x",
         "y": [
          "11A CONDO-RENTALS                           "
         ],
         "yaxis": "y"
        },
        {
         "alignmentgroup": "True",
         "hovertemplate": "BUILDING CLASS CATEGORY=%{y}<br>Counts=%{x}<extra></extra>",
         "legendgroup": "23 LOFT BUILDINGS                          ",
         "marker": {
          "color": "#19d3f3",
          "pattern": {
           "shape": ""
          }
         },
         "name": "23 LOFT BUILDINGS                          ",
         "offsetgroup": "23 LOFT BUILDINGS                          ",
         "orientation": "h",
         "showlegend": true,
         "textposition": "auto",
         "type": "bar",
         "x": [
          28
         ],
         "xaxis": "x",
         "y": [
          "23 LOFT BUILDINGS                          "
         ],
         "yaxis": "y"
        },
        {
         "alignmentgroup": "True",
         "hovertemplate": "BUILDING CLASS CATEGORY=%{y}<br>Counts=%{x}<extra></extra>",
         "legendgroup": "35 INDOOR PUBLIC AND CULTURAL FACILITIES   ",
         "marker": {
          "color": "#FF6692",
          "pattern": {
           "shape": ""
          }
         },
         "name": "35 INDOOR PUBLIC AND CULTURAL FACILITIES   ",
         "offsetgroup": "35 INDOOR PUBLIC AND CULTURAL FACILITIES   ",
         "orientation": "h",
         "showlegend": true,
         "textposition": "auto",
         "type": "bar",
         "x": [
          23
         ],
         "xaxis": "x",
         "y": [
          "35 INDOOR PUBLIC AND CULTURAL FACILITIES   "
         ],
         "yaxis": "y"
        },
        {
         "alignmentgroup": "True",
         "hovertemplate": "BUILDING CLASS CATEGORY=%{y}<br>Counts=%{x}<extra></extra>",
         "legendgroup": "28 COMMERCIAL CONDOS                       ",
         "marker": {
          "color": "#B6E880",
          "pattern": {
           "shape": ""
          }
         },
         "name": "28 COMMERCIAL CONDOS                       ",
         "offsetgroup": "28 COMMERCIAL CONDOS                       ",
         "orientation": "h",
         "showlegend": true,
         "textposition": "auto",
         "type": "bar",
         "x": [
          22
         ],
         "xaxis": "x",
         "y": [
          "28 COMMERCIAL CONDOS                       "
         ],
         "yaxis": "y"
        },
        {
         "alignmentgroup": "True",
         "hovertemplate": "BUILDING CLASS CATEGORY=%{y}<br>Counts=%{x}<extra></extra>",
         "legendgroup": "38 ASYLUMS AND HOMES                       ",
         "marker": {
          "color": "#FF97FF",
          "pattern": {
           "shape": ""
          }
         },
         "name": "38 ASYLUMS AND HOMES                       ",
         "offsetgroup": "38 ASYLUMS AND HOMES                       ",
         "orientation": "h",
         "showlegend": true,
         "textposition": "auto",
         "type": "bar",
         "x": [
          12
         ],
         "xaxis": "x",
         "y": [
          "38 ASYLUMS AND HOMES                       "
         ],
         "yaxis": "y"
        },
        {
         "alignmentgroup": "True",
         "hovertemplate": "BUILDING CLASS CATEGORY=%{y}<br>Counts=%{x}<extra></extra>",
         "legendgroup": "42 CONDO CULTURAL/MEDICAL/EDUCATIONAL/ETC  ",
         "marker": {
          "color": "#FECB52",
          "pattern": {
           "shape": ""
          }
         },
         "name": "42 CONDO CULTURAL/MEDICAL/EDUCATIONAL/ETC  ",
         "offsetgroup": "42 CONDO CULTURAL/MEDICAL/EDUCATIONAL/ETC  ",
         "orientation": "h",
         "showlegend": true,
         "textposition": "auto",
         "type": "bar",
         "x": [
          11
         ],
         "xaxis": "x",
         "y": [
          "42 CONDO CULTURAL/MEDICAL/EDUCATIONAL/ETC  "
         ],
         "yaxis": "y"
        },
        {
         "alignmentgroup": "True",
         "hovertemplate": "BUILDING CLASS CATEGORY=%{y}<br>Counts=%{x}<extra></extra>",
         "legendgroup": "36 OUTDOOR RECREATIONAL FACILITIES         ",
         "marker": {
          "color": "#636efa",
          "pattern": {
           "shape": ""
          }
         },
         "name": "36 OUTDOOR RECREATIONAL FACILITIES         ",
         "offsetgroup": "36 OUTDOOR RECREATIONAL FACILITIES         ",
         "orientation": "h",
         "showlegend": true,
         "textposition": "auto",
         "type": "bar",
         "x": [
          11
         ],
         "xaxis": "x",
         "y": [
          "36 OUTDOOR RECREATIONAL FACILITIES         "
         ],
         "yaxis": "y"
        },
        {
         "alignmentgroup": "True",
         "hovertemplate": "BUILDING CLASS CATEGORY=%{y}<br>Counts=%{x}<extra></extra>",
         "legendgroup": "34 THEATRES                                ",
         "marker": {
          "color": "#EF553B",
          "pattern": {
           "shape": ""
          }
         },
         "name": "34 THEATRES                                ",
         "offsetgroup": "34 THEATRES                                ",
         "orientation": "h",
         "showlegend": true,
         "textposition": "auto",
         "type": "bar",
         "x": [
          7
         ],
         "xaxis": "x",
         "y": [
          "34 THEATRES                                "
         ],
         "yaxis": "y"
        },
        {
         "alignmentgroup": "True",
         "hovertemplate": "BUILDING CLASS CATEGORY=%{y}<br>Counts=%{x}<extra></extra>",
         "legendgroup": "25 LUXURY HOTELS                           ",
         "marker": {
          "color": "#00cc96",
          "pattern": {
           "shape": ""
          }
         },
         "name": "25 LUXURY HOTELS                           ",
         "offsetgroup": "25 LUXURY HOTELS                           ",
         "orientation": "h",
         "showlegend": true,
         "textposition": "auto",
         "type": "bar",
         "x": [
          4
         ],
         "xaxis": "x",
         "y": [
          "25 LUXURY HOTELS                           "
         ],
         "yaxis": "y"
        },
        {
         "alignmentgroup": "True",
         "hovertemplate": "BUILDING CLASS CATEGORY=%{y}<br>Counts=%{x}<extra></extra>",
         "legendgroup": "18 TAX CLASS 3 - UNTILITY PROPERTIES       ",
         "marker": {
          "color": "#ab63fa",
          "pattern": {
           "shape": ""
          }
         },
         "name": "18 TAX CLASS 3 - UNTILITY PROPERTIES       ",
         "offsetgroup": "18 TAX CLASS 3 - UNTILITY PROPERTIES       ",
         "orientation": "h",
         "showlegend": true,
         "textposition": "auto",
         "type": "bar",
         "x": [
          4
         ],
         "xaxis": "x",
         "y": [
          "18 TAX CLASS 3 - UNTILITY PROPERTIES       "
         ],
         "yaxis": "y"
        },
        {
         "alignmentgroup": "True",
         "hovertemplate": "BUILDING CLASS CATEGORY=%{y}<br>Counts=%{x}<extra></extra>",
         "legendgroup": "39 TRANSPORTATION FACILITIES               ",
         "marker": {
          "color": "#FFA15A",
          "pattern": {
           "shape": ""
          }
         },
         "name": "39 TRANSPORTATION FACILITIES               ",
         "offsetgroup": "39 TRANSPORTATION FACILITIES               ",
         "orientation": "h",
         "showlegend": true,
         "textposition": "auto",
         "type": "bar",
         "x": [
          2
         ],
         "xaxis": "x",
         "y": [
          "39 TRANSPORTATION FACILITIES               "
         ],
         "yaxis": "y"
        },
        {
         "alignmentgroup": "True",
         "hovertemplate": "BUILDING CLASS CATEGORY=%{y}<br>Counts=%{x}<extra></extra>",
         "legendgroup": "11 SPECIAL CONDO BILLING LOTS              ",
         "marker": {
          "color": "#19d3f3",
          "pattern": {
           "shape": ""
          }
         },
         "name": "11 SPECIAL CONDO BILLING LOTS              ",
         "offsetgroup": "11 SPECIAL CONDO BILLING LOTS              ",
         "orientation": "h",
         "showlegend": true,
         "textposition": "auto",
         "type": "bar",
         "x": [
          2
         ],
         "xaxis": "x",
         "y": [
          "11 SPECIAL CONDO BILLING LOTS              "
         ],
         "yaxis": "y"
        },
        {
         "alignmentgroup": "True",
         "hovertemplate": "BUILDING CLASS CATEGORY=%{y}<br>Counts=%{x}<extra></extra>",
         "legendgroup": "40 SELECTED GOVERNMENTAL FACILITIES        ",
         "marker": {
          "color": "#FF6692",
          "pattern": {
           "shape": ""
          }
         },
         "name": "40 SELECTED GOVERNMENTAL FACILITIES        ",
         "offsetgroup": "40 SELECTED GOVERNMENTAL FACILITIES        ",
         "orientation": "h",
         "showlegend": true,
         "textposition": "auto",
         "type": "bar",
         "x": [
          1
         ],
         "xaxis": "x",
         "y": [
          "40 SELECTED GOVERNMENTAL FACILITIES        "
         ],
         "yaxis": "y"
        }
       ],
       "layout": {
        "barmode": "relative",
        "height": 600,
        "legend": {
         "title": {
          "text": "BUILDING CLASS CATEGORY"
         },
         "tracegroupgap": 0
        },
        "template": {
         "data": {
          "bar": [
           {
            "error_x": {
             "color": "#2a3f5f"
            },
            "error_y": {
             "color": "#2a3f5f"
            },
            "marker": {
             "line": {
              "color": "#E5ECF6",
              "width": 0.5
             },
             "pattern": {
              "fillmode": "overlay",
              "size": 10,
              "solidity": 0.2
             }
            },
            "type": "bar"
           }
          ],
          "barpolar": [
           {
            "marker": {
             "line": {
              "color": "#E5ECF6",
              "width": 0.5
             },
             "pattern": {
              "fillmode": "overlay",
              "size": 10,
              "solidity": 0.2
             }
            },
            "type": "barpolar"
           }
          ],
          "carpet": [
           {
            "aaxis": {
             "endlinecolor": "#2a3f5f",
             "gridcolor": "white",
             "linecolor": "white",
             "minorgridcolor": "white",
             "startlinecolor": "#2a3f5f"
            },
            "baxis": {
             "endlinecolor": "#2a3f5f",
             "gridcolor": "white",
             "linecolor": "white",
             "minorgridcolor": "white",
             "startlinecolor": "#2a3f5f"
            },
            "type": "carpet"
           }
          ],
          "choropleth": [
           {
            "colorbar": {
             "outlinewidth": 0,
             "ticks": ""
            },
            "type": "choropleth"
           }
          ],
          "contour": [
           {
            "colorbar": {
             "outlinewidth": 0,
             "ticks": ""
            },
            "colorscale": [
             [
              0,
              "#0d0887"
             ],
             [
              0.1111111111111111,
              "#46039f"
             ],
             [
              0.2222222222222222,
              "#7201a8"
             ],
             [
              0.3333333333333333,
              "#9c179e"
             ],
             [
              0.4444444444444444,
              "#bd3786"
             ],
             [
              0.5555555555555556,
              "#d8576b"
             ],
             [
              0.6666666666666666,
              "#ed7953"
             ],
             [
              0.7777777777777778,
              "#fb9f3a"
             ],
             [
              0.8888888888888888,
              "#fdca26"
             ],
             [
              1,
              "#f0f921"
             ]
            ],
            "type": "contour"
           }
          ],
          "contourcarpet": [
           {
            "colorbar": {
             "outlinewidth": 0,
             "ticks": ""
            },
            "type": "contourcarpet"
           }
          ],
          "heatmap": [
           {
            "colorbar": {
             "outlinewidth": 0,
             "ticks": ""
            },
            "colorscale": [
             [
              0,
              "#0d0887"
             ],
             [
              0.1111111111111111,
              "#46039f"
             ],
             [
              0.2222222222222222,
              "#7201a8"
             ],
             [
              0.3333333333333333,
              "#9c179e"
             ],
             [
              0.4444444444444444,
              "#bd3786"
             ],
             [
              0.5555555555555556,
              "#d8576b"
             ],
             [
              0.6666666666666666,
              "#ed7953"
             ],
             [
              0.7777777777777778,
              "#fb9f3a"
             ],
             [
              0.8888888888888888,
              "#fdca26"
             ],
             [
              1,
              "#f0f921"
             ]
            ],
            "type": "heatmap"
           }
          ],
          "heatmapgl": [
           {
            "colorbar": {
             "outlinewidth": 0,
             "ticks": ""
            },
            "colorscale": [
             [
              0,
              "#0d0887"
             ],
             [
              0.1111111111111111,
              "#46039f"
             ],
             [
              0.2222222222222222,
              "#7201a8"
             ],
             [
              0.3333333333333333,
              "#9c179e"
             ],
             [
              0.4444444444444444,
              "#bd3786"
             ],
             [
              0.5555555555555556,
              "#d8576b"
             ],
             [
              0.6666666666666666,
              "#ed7953"
             ],
             [
              0.7777777777777778,
              "#fb9f3a"
             ],
             [
              0.8888888888888888,
              "#fdca26"
             ],
             [
              1,
              "#f0f921"
             ]
            ],
            "type": "heatmapgl"
           }
          ],
          "histogram": [
           {
            "marker": {
             "pattern": {
              "fillmode": "overlay",
              "size": 10,
              "solidity": 0.2
             }
            },
            "type": "histogram"
           }
          ],
          "histogram2d": [
           {
            "colorbar": {
             "outlinewidth": 0,
             "ticks": ""
            },
            "colorscale": [
             [
              0,
              "#0d0887"
             ],
             [
              0.1111111111111111,
              "#46039f"
             ],
             [
              0.2222222222222222,
              "#7201a8"
             ],
             [
              0.3333333333333333,
              "#9c179e"
             ],
             [
              0.4444444444444444,
              "#bd3786"
             ],
             [
              0.5555555555555556,
              "#d8576b"
             ],
             [
              0.6666666666666666,
              "#ed7953"
             ],
             [
              0.7777777777777778,
              "#fb9f3a"
             ],
             [
              0.8888888888888888,
              "#fdca26"
             ],
             [
              1,
              "#f0f921"
             ]
            ],
            "type": "histogram2d"
           }
          ],
          "histogram2dcontour": [
           {
            "colorbar": {
             "outlinewidth": 0,
             "ticks": ""
            },
            "colorscale": [
             [
              0,
              "#0d0887"
             ],
             [
              0.1111111111111111,
              "#46039f"
             ],
             [
              0.2222222222222222,
              "#7201a8"
             ],
             [
              0.3333333333333333,
              "#9c179e"
             ],
             [
              0.4444444444444444,
              "#bd3786"
             ],
             [
              0.5555555555555556,
              "#d8576b"
             ],
             [
              0.6666666666666666,
              "#ed7953"
             ],
             [
              0.7777777777777778,
              "#fb9f3a"
             ],
             [
              0.8888888888888888,
              "#fdca26"
             ],
             [
              1,
              "#f0f921"
             ]
            ],
            "type": "histogram2dcontour"
           }
          ],
          "mesh3d": [
           {
            "colorbar": {
             "outlinewidth": 0,
             "ticks": ""
            },
            "type": "mesh3d"
           }
          ],
          "parcoords": [
           {
            "line": {
             "colorbar": {
              "outlinewidth": 0,
              "ticks": ""
             }
            },
            "type": "parcoords"
           }
          ],
          "pie": [
           {
            "automargin": true,
            "type": "pie"
           }
          ],
          "scatter": [
           {
            "fillpattern": {
             "fillmode": "overlay",
             "size": 10,
             "solidity": 0.2
            },
            "type": "scatter"
           }
          ],
          "scatter3d": [
           {
            "line": {
             "colorbar": {
              "outlinewidth": 0,
              "ticks": ""
             }
            },
            "marker": {
             "colorbar": {
              "outlinewidth": 0,
              "ticks": ""
             }
            },
            "type": "scatter3d"
           }
          ],
          "scattercarpet": [
           {
            "marker": {
             "colorbar": {
              "outlinewidth": 0,
              "ticks": ""
             }
            },
            "type": "scattercarpet"
           }
          ],
          "scattergeo": [
           {
            "marker": {
             "colorbar": {
              "outlinewidth": 0,
              "ticks": ""
             }
            },
            "type": "scattergeo"
           }
          ],
          "scattergl": [
           {
            "marker": {
             "colorbar": {
              "outlinewidth": 0,
              "ticks": ""
             }
            },
            "type": "scattergl"
           }
          ],
          "scattermapbox": [
           {
            "marker": {
             "colorbar": {
              "outlinewidth": 0,
              "ticks": ""
             }
            },
            "type": "scattermapbox"
           }
          ],
          "scatterpolar": [
           {
            "marker": {
             "colorbar": {
              "outlinewidth": 0,
              "ticks": ""
             }
            },
            "type": "scatterpolar"
           }
          ],
          "scatterpolargl": [
           {
            "marker": {
             "colorbar": {
              "outlinewidth": 0,
              "ticks": ""
             }
            },
            "type": "scatterpolargl"
           }
          ],
          "scatterternary": [
           {
            "marker": {
             "colorbar": {
              "outlinewidth": 0,
              "ticks": ""
             }
            },
            "type": "scatterternary"
           }
          ],
          "surface": [
           {
            "colorbar": {
             "outlinewidth": 0,
             "ticks": ""
            },
            "colorscale": [
             [
              0,
              "#0d0887"
             ],
             [
              0.1111111111111111,
              "#46039f"
             ],
             [
              0.2222222222222222,
              "#7201a8"
             ],
             [
              0.3333333333333333,
              "#9c179e"
             ],
             [
              0.4444444444444444,
              "#bd3786"
             ],
             [
              0.5555555555555556,
              "#d8576b"
             ],
             [
              0.6666666666666666,
              "#ed7953"
             ],
             [
              0.7777777777777778,
              "#fb9f3a"
             ],
             [
              0.8888888888888888,
              "#fdca26"
             ],
             [
              1,
              "#f0f921"
             ]
            ],
            "type": "surface"
           }
          ],
          "table": [
           {
            "cells": {
             "fill": {
              "color": "#EBF0F8"
             },
             "line": {
              "color": "white"
             }
            },
            "header": {
             "fill": {
              "color": "#C8D4E3"
             },
             "line": {
              "color": "white"
             }
            },
            "type": "table"
           }
          ]
         },
         "layout": {
          "annotationdefaults": {
           "arrowcolor": "#2a3f5f",
           "arrowhead": 0,
           "arrowwidth": 1
          },
          "autotypenumbers": "strict",
          "coloraxis": {
           "colorbar": {
            "outlinewidth": 0,
            "ticks": ""
           }
          },
          "colorscale": {
           "diverging": [
            [
             0,
             "#8e0152"
            ],
            [
             0.1,
             "#c51b7d"
            ],
            [
             0.2,
             "#de77ae"
            ],
            [
             0.3,
             "#f1b6da"
            ],
            [
             0.4,
             "#fde0ef"
            ],
            [
             0.5,
             "#f7f7f7"
            ],
            [
             0.6,
             "#e6f5d0"
            ],
            [
             0.7,
             "#b8e186"
            ],
            [
             0.8,
             "#7fbc41"
            ],
            [
             0.9,
             "#4d9221"
            ],
            [
             1,
             "#276419"
            ]
           ],
           "sequential": [
            [
             0,
             "#0d0887"
            ],
            [
             0.1111111111111111,
             "#46039f"
            ],
            [
             0.2222222222222222,
             "#7201a8"
            ],
            [
             0.3333333333333333,
             "#9c179e"
            ],
            [
             0.4444444444444444,
             "#bd3786"
            ],
            [
             0.5555555555555556,
             "#d8576b"
            ],
            [
             0.6666666666666666,
             "#ed7953"
            ],
            [
             0.7777777777777778,
             "#fb9f3a"
            ],
            [
             0.8888888888888888,
             "#fdca26"
            ],
            [
             1,
             "#f0f921"
            ]
           ],
           "sequentialminus": [
            [
             0,
             "#0d0887"
            ],
            [
             0.1111111111111111,
             "#46039f"
            ],
            [
             0.2222222222222222,
             "#7201a8"
            ],
            [
             0.3333333333333333,
             "#9c179e"
            ],
            [
             0.4444444444444444,
             "#bd3786"
            ],
            [
             0.5555555555555556,
             "#d8576b"
            ],
            [
             0.6666666666666666,
             "#ed7953"
            ],
            [
             0.7777777777777778,
             "#fb9f3a"
            ],
            [
             0.8888888888888888,
             "#fdca26"
            ],
            [
             1,
             "#f0f921"
            ]
           ]
          },
          "colorway": [
           "#636efa",
           "#EF553B",
           "#00cc96",
           "#ab63fa",
           "#FFA15A",
           "#19d3f3",
           "#FF6692",
           "#B6E880",
           "#FF97FF",
           "#FECB52"
          ],
          "font": {
           "color": "#2a3f5f"
          },
          "geo": {
           "bgcolor": "white",
           "lakecolor": "white",
           "landcolor": "#E5ECF6",
           "showlakes": true,
           "showland": true,
           "subunitcolor": "white"
          },
          "hoverlabel": {
           "align": "left"
          },
          "hovermode": "closest",
          "mapbox": {
           "style": "light"
          },
          "paper_bgcolor": "white",
          "plot_bgcolor": "#E5ECF6",
          "polar": {
           "angularaxis": {
            "gridcolor": "white",
            "linecolor": "white",
            "ticks": ""
           },
           "bgcolor": "#E5ECF6",
           "radialaxis": {
            "gridcolor": "white",
            "linecolor": "white",
            "ticks": ""
           }
          },
          "scene": {
           "xaxis": {
            "backgroundcolor": "#E5ECF6",
            "gridcolor": "white",
            "gridwidth": 2,
            "linecolor": "white",
            "showbackground": true,
            "ticks": "",
            "zerolinecolor": "white"
           },
           "yaxis": {
            "backgroundcolor": "#E5ECF6",
            "gridcolor": "white",
            "gridwidth": 2,
            "linecolor": "white",
            "showbackground": true,
            "ticks": "",
            "zerolinecolor": "white"
           },
           "zaxis": {
            "backgroundcolor": "#E5ECF6",
            "gridcolor": "white",
            "gridwidth": 2,
            "linecolor": "white",
            "showbackground": true,
            "ticks": "",
            "zerolinecolor": "white"
           }
          },
          "shapedefaults": {
           "line": {
            "color": "#2a3f5f"
           }
          },
          "ternary": {
           "aaxis": {
            "gridcolor": "white",
            "linecolor": "white",
            "ticks": ""
           },
           "baxis": {
            "gridcolor": "white",
            "linecolor": "white",
            "ticks": ""
           },
           "bgcolor": "#E5ECF6",
           "caxis": {
            "gridcolor": "white",
            "linecolor": "white",
            "ticks": ""
           }
          },
          "title": {
           "x": 0.05
          },
          "xaxis": {
           "automargin": true,
           "gridcolor": "white",
           "linecolor": "white",
           "ticks": "",
           "title": {
            "standoff": 15
           },
           "zerolinecolor": "white",
           "zerolinewidth": 2
          },
          "yaxis": {
           "automargin": true,
           "gridcolor": "white",
           "linecolor": "white",
           "ticks": "",
           "title": {
            "standoff": 15
           },
           "zerolinecolor": "white",
           "zerolinewidth": 2
          }
         }
        },
        "title": {
         "text": "Modus BUILDING CLASS CATEGORY: 01 ONE FAMILY DWELLINGS                    "
        },
        "width": 1500,
        "xaxis": {
         "anchor": "y",
         "domain": [
          0,
          1
         ],
         "title": {
          "text": "Counts"
         }
        },
        "yaxis": {
         "anchor": "x",
         "categoryarray": [
          "40 SELECTED GOVERNMENTAL FACILITIES        ",
          "11 SPECIAL CONDO BILLING LOTS              ",
          "39 TRANSPORTATION FACILITIES               ",
          "18 TAX CLASS 3 - UNTILITY PROPERTIES       ",
          "25 LUXURY HOTELS                           ",
          "34 THEATRES                                ",
          "36 OUTDOOR RECREATIONAL FACILITIES         ",
          "42 CONDO CULTURAL/MEDICAL/EDUCATIONAL/ETC  ",
          "38 ASYLUMS AND HOMES                       ",
          "28 COMMERCIAL CONDOS                       ",
          "35 INDOOR PUBLIC AND CULTURAL FACILITIES   ",
          "23 LOFT BUILDINGS                          ",
          "11A CONDO-RENTALS                           ",
          "49 CONDO WAREHOUSES/FACTORY/INDUS          ",
          "32 HOSPITAL AND HEALTH FACILITIES          ",
          "48 CONDO TERRACES/GARDENS/CABANAS          ",
          "33 EDUCATIONAL FACILITIES                  ",
          "37 RELIGIOUS FACILITIES                    ",
          "16 CONDOS - 2-10 UNIT WITH COMMERCIAL UNIT ",
          "26 OTHER HOTELS                            ",
          "46 CONDO STORE BUILDINGS                   ",
          "27 FACTORIES                               ",
          "41 TAX CLASS 4 - OTHER                     ",
          "06 TAX CLASS 1 - OTHER                     ",
          "08 RENTALS - ELEVATOR APARTMENTS           ",
          "45 CONDO HOTELS                            ",
          "30 WAREHOUSES                              ",
          "21 OFFICE BUILDINGS                        ",
          "43 CONDO OFFICE BUILDINGS                  ",
          "47 CONDO NON-BUSINESS STORAGE              ",
          "31 COMMERCIAL VACANT LAND                  ",
          "29 COMMERCIAL GARAGES                      ",
          "14 RENTALS - 4-10 UNIT                     ",
          "22 STORE BUILDINGS                         ",
          "12 CONDOS - WALKUP APARTMENTS              ",
          "17 CONDO COOPS                             ",
          "15 CONDOS - 2-10 UNIT RESIDENTIAL          ",
          "05 TAX CLASS 1 VACANT LAND                 ",
          "44 CONDO PARKING                           ",
          "04 TAX CLASS 1 CONDOS                      ",
          "07 RENTALS - WALKUP APARTMENTS             ",
          "09 COOPS - WALKUP APARTMENTS               ",
          "03 THREE FAMILY DWELLINGS                  ",
          "13 CONDOS - ELEVATOR APARTMENTS            ",
          "10 COOPS - ELEVATOR APARTMENTS             ",
          "02 TWO FAMILY DWELLINGS                    ",
          "01 ONE FAMILY DWELLINGS                    "
         ],
         "categoryorder": "array",
         "domain": [
          0,
          1
         ],
         "title": {
          "text": "BUILDING CLASS CATEGORY"
         }
        }
       }
      }
     },
     "metadata": {},
     "output_type": "display_data"
    }
   ],
   "source": [
    "# Create a horizontal bar plot\n",
    "fig = px.bar(building_class_counts_df, x='Counts', y='BUILDING CLASS CATEGORY', orientation='h',\n",
    "             color='BUILDING CLASS CATEGORY',\n",
    "             title=f\"Modus BUILDING CLASS CATEGORY: {mode_building_class}\",\n",
    "             width=1500,  # Set the width of the graph\n",
    "             height=600  # Set the height of the graph\n",
    "            )\n",
    "\n",
    "# Show the plot\n",
    "fig.show()"
   ]
  },
  {
   "cell_type": "markdown",
   "metadata": {},
   "source": [
    "## Range\n",
    "Range is a statistical term that refers to the difference between the maximum and minimum values in a dataset.\n",
    "\n",
    "**Mengetahui range untuk residential units, commercial units, total units, land square feet, gross square feet, dan sale price per boroughnya**"
   ]
  },
  {
   "cell_type": "code",
   "execution_count": 28,
   "metadata": {},
   "outputs": [
    {
     "name": "stdout",
     "output_type": "stream",
     "text": [
      "         BOROUGH  Minimum  Maximum  Range\n",
      "0      Manhattan        0     1641   1641\n",
      "1          Bronx        0      716    716\n",
      "2       Brooklyn        0      889    889\n",
      "3         Queens        0     1844   1844\n",
      "4  Staten Island        0      143    143\n",
      "Overall Range for RESIDENTIAL UNITS: 0 - 1844\n"
     ]
    }
   ],
   "source": [
    "# Range for Resedential Units\n",
    "min_max_residential = df_without_outliers.groupby('BOROUGH')['RESIDENTIAL UNITS'].agg(['min', 'max', lambda x: x.max() - x.min()]).reset_index()\n",
    "min_max_residential.columns = ['BOROUGH', 'Minimum', 'Maximum', 'Range']\n",
    "print(min_max_residential)\n",
    "\n",
    "#Overall Range\n",
    "min_residential_units = df['RESIDENTIAL UNITS'].min()\n",
    "max_residential_units = df['RESIDENTIAL UNITS'].max()\n",
    "print(\"Overall Range for RESIDENTIAL UNITS:\", min_residential_units, \"-\", max_residential_units)"
   ]
  },
  {
   "cell_type": "code",
   "execution_count": 29,
   "metadata": {},
   "outputs": [
    {
     "name": "stdout",
     "output_type": "stream",
     "text": [
      "         BOROUGH  Minimum  Maximum  Range\n",
      "0      Manhattan        0      422    422\n",
      "1          Bronx        0       20     20\n",
      "2       Brooklyn        0      184    184\n",
      "3         Queens        0     2261   2261\n",
      "4  Staten Island        0      126    126\n",
      "Overall Range for COMMERCIAL UNITS: 0 - 2261\n"
     ]
    }
   ],
   "source": [
    "# Range for Commercial Units\n",
    "min_max_commercial = df_without_outliers.groupby('BOROUGH')['COMMERCIAL UNITS'].agg(['min', 'max', lambda x: x.max() - x.min()]).reset_index()\n",
    "min_max_commercial.columns = ['BOROUGH', 'Minimum', 'Maximum', 'Range']\n",
    "print(min_max_commercial)\n",
    "\n",
    "#Overall Range\n",
    "min_commercial_units = df['COMMERCIAL UNITS'].min()\n",
    "max_commercial_units = df['COMMERCIAL UNITS'].max()\n",
    "print(\"Overall Range for COMMERCIAL UNITS:\", min_commercial_units, \"-\", max_commercial_units)"
   ]
  },
  {
   "cell_type": "code",
   "execution_count": 30,
   "metadata": {},
   "outputs": [
    {
     "name": "stdout",
     "output_type": "stream",
     "text": [
      "         BOROUGH  Minimum  Maximum  Range\n",
      "0      Manhattan        0     1653   1653\n",
      "1          Bronx        0      736    736\n",
      "2       Brooklyn        0      889    889\n",
      "3         Queens        0     2261   2261\n",
      "4  Staten Island        0      143    143\n",
      "Overall Range for TOTAL UNITS: 0 - 2261\n"
     ]
    }
   ],
   "source": [
    "# Range for Total Units\n",
    "min_max_totalunits = df_without_outliers.groupby('BOROUGH')['TOTAL UNITS'].agg(['min', 'max', lambda x: x.max() - x.min()]).reset_index()\n",
    "min_max_totalunits.columns = ['BOROUGH', 'Minimum', 'Maximum', 'Range']\n",
    "print(min_max_totalunits)\n",
    "\n",
    "#Overall Range\n",
    "min_total_units = df['TOTAL UNITS'].min()\n",
    "max_total_units = df['TOTAL UNITS'].max()\n",
    "print(\"Overall Range for TOTAL UNITS:\", min_total_units, \"-\", max_total_units)"
   ]
  },
  {
   "cell_type": "code",
   "execution_count": 31,
   "metadata": {},
   "outputs": [
    {
     "name": "stdout",
     "output_type": "stream",
     "text": [
      "         BOROUGH  Minimum    Maximum      Range\n",
      "0      Manhattan     88.0   364000.0   363912.0\n",
      "1          Bronx      0.0   491293.0   491293.0\n",
      "2       Brooklyn      0.0   970000.0   970000.0\n",
      "3         Queens      7.0  4228300.0  4228293.0\n",
      "4  Staten Island    102.0  2128899.0  2128797.0\n",
      "Overall Range for LAND SQUARE FEET: 0.0 - 4252327.0\n"
     ]
    }
   ],
   "source": [
    "# Range for Land Square Feet\n",
    "min_max_land = df_without_outliers.groupby('BOROUGH')['LAND SQUARE FEET'].agg(['min', 'max', lambda x: x.max() - x.min()]).reset_index()\n",
    "min_max_land.columns = ['BOROUGH', 'Minimum', 'Maximum', 'Range']\n",
    "print(min_max_land)\n",
    "\n",
    "#Overall Range\n",
    "min_land_square = df['LAND SQUARE FEET'].min()\n",
    "max_land_square = df['LAND SQUARE FEET'].max()\n",
    "print(\"Overall Range for LAND SQUARE FEET:\", min_land_square, \"-\", max_land_square)"
   ]
  },
  {
   "cell_type": "code",
   "execution_count": 32,
   "metadata": {},
   "outputs": [
    {
     "name": "stdout",
     "output_type": "stream",
     "text": [
      "         BOROUGH  Minimum    Maximum      Range\n",
      "0      Manhattan    225.0  2155492.0  2155267.0\n",
      "1          Bronx      0.0  1303935.0  1303935.0\n",
      "2       Brooklyn      0.0  1330743.0  1330743.0\n",
      "3         Queens    200.0  3750565.0  3750365.0\n",
      "4  Staten Island    200.0   683200.0   683000.0\n",
      "Overall Range for GROSS SQUARE FEET: 0.0 - 3750565.0\n"
     ]
    }
   ],
   "source": [
    "# Range for Gross Square Feet\n",
    "min_max_gross = df_without_outliers.groupby('BOROUGH')['GROSS SQUARE FEET'].agg(['min', 'max', lambda x: x.max() - x.min()]).reset_index()\n",
    "min_max_gross.columns = ['BOROUGH', 'Minimum', 'Maximum', 'Range']\n",
    "print(min_max_gross)\n",
    "\n",
    "#Overall Range\n",
    "min_gross_square = df['GROSS SQUARE FEET'].min()\n",
    "max_gross_square = df['GROSS SQUARE FEET'].max()\n",
    "print(\"Overall Range for GROSS SQUARE FEET:\", min_gross_square, \"-\", max_gross_square)"
   ]
  },
  {
   "cell_type": "code",
   "execution_count": 33,
   "metadata": {},
   "outputs": [
    {
     "name": "stdout",
     "output_type": "stream",
     "text": [
      "         BOROUGH  Minimum    Maximum      Range\n",
      "0      Manhattan      1.0  1201535.0  1201534.0\n",
      "1          Bronx      0.0  1200000.0  1200000.0\n",
      "2       Brooklyn      0.0  1202000.0  1202000.0\n",
      "3         Queens      1.0  1202286.0  1202285.0\n",
      "4  Staten Island      1.0  1200000.0  1199999.0\n",
      "Overall Range for SALE PRICE: 0.0 - 2210000000.0\n"
     ]
    }
   ],
   "source": [
    "# Range for Sale Price\n",
    "min_max_saleprice = df_without_outliers.groupby('BOROUGH')['SALE PRICE'].agg(['min', 'max', lambda x: x.max() - x.min()]).reset_index()\n",
    "min_max_saleprice.columns = ['BOROUGH', 'Minimum', 'Maximum', 'Range']\n",
    "print(min_max_saleprice)\n",
    "\n",
    "#Overall Range\n",
    "min_saleprice = df['SALE PRICE'].min()\n",
    "max_saleprice = df['SALE PRICE'].max()\n",
    "print(\"Overall Range for SALE PRICE:\", min_saleprice, \"-\", max_saleprice)"
   ]
  },
  {
   "cell_type": "markdown",
   "metadata": {},
   "source": [
    "## Variance\n",
    "Variance is a statistical measure that quantifies the degree of spread or dispersion in a set of data points.\n",
    "\n",
    "**Mengetahui perbedaan varians untuk residential units dan commercial units**"
   ]
  },
  {
   "cell_type": "code",
   "execution_count": 34,
   "metadata": {},
   "outputs": [
    {
     "name": "stdout",
     "output_type": "stream",
     "text": [
      "Variance for RESIDENTIAL UNITS: 232.76338374552154\n",
      "Variance for COMMERCIAL UNITS: 80.83424364978278\n",
      "Difference for RESIDENTIAL and COMMERCIAL UNITS: 151.92914009573877\n",
      "Variance for TOTAL UNITS: 317.18786578641874\n"
     ]
    }
   ],
   "source": [
    "# Calculate variance\n",
    "var_residential = df_without_outliers['RESIDENTIAL UNITS'].var()\n",
    "var_commercial = df_without_outliers['COMMERCIAL UNITS'].var()\n",
    "var_total = df_without_outliers['TOTAL UNITS'].var()\n",
    "\n",
    "# Display variance\n",
    "print(\"Variance for RESIDENTIAL UNITS:\", var_residential)\n",
    "print(\"Variance for COMMERCIAL UNITS:\", var_commercial)\n",
    "print(\"Difference for RESIDENTIAL and COMMERCIAL UNITS:\", var_residential - var_commercial)\n",
    "print(\"Variance for TOTAL UNITS:\", var_total)"
   ]
  },
  {
   "cell_type": "markdown",
   "metadata": {},
   "source": [
    "**Coclusion:** Varians adalah ukuran seberapa jauh data dalam setiap jenis unit tersebut menyebar dari nilai rata-rata (mean). Varians yang lebih besar menunjukkan bahwa data memiliki variasi yang lebih besar, atau data lebih tersebar dari nilai rata-rata. Berdasarkan hasil di atas, dapat disimpulkan bahwa `residential units (232,76) memiliki varians yang lebih tinggi dibandingkan dengan commercial units (80,83)` dengan selisih 151.93."
   ]
  },
  {
   "cell_type": "markdown",
   "metadata": {},
   "source": [
    "## Standard Deviation\n",
    "Standard Deviation is a statistical measure that quantifies the amount of variation or dispersion in a set of data points.\n",
    "\n",
    "**Mengetahui perbedaan standar deviasi untuk land square feet dan gross square feet**"
   ]
  },
  {
   "cell_type": "code",
   "execution_count": 35,
   "metadata": {},
   "outputs": [
    {
     "name": "stdout",
     "output_type": "stream",
     "text": [
      "Standard Deviation for LAND SQUARE FEET: 27805.01946238555\n",
      "Standard Deviation for GROSS SQUARE FEET: 27417.60069026211\n",
      "Difference for LAND and GROSS SQUARE FEET: 387.41877212344116\n"
     ]
    }
   ],
   "source": [
    "# Calculate StdDev\n",
    "stddev_land = df_without_outliers['LAND SQUARE FEET'].std()\n",
    "stddev_gross = df_without_outliers['GROSS SQUARE FEET'].std()\n",
    "\n",
    "# Display StdDev\n",
    "print(\"Standard Deviation for LAND SQUARE FEET:\", stddev_land)\n",
    "print(\"Standard Deviation for GROSS SQUARE FEET:\", stddev_gross)\n",
    "print(\"Difference for LAND and GROSS SQUARE FEET:\", stddev_land - stddev_gross)"
   ]
  },
  {
   "cell_type": "markdown",
   "metadata": {},
   "source": [
    "**Conclusion:** Standar deviasi yang lebih besar menunjukkan bahwa data memiliki variasi yang lebih besar, atau data lebih tersebar dari nilai rata-rata. Perbedaan antara Standar Deviasi LAND dan GROSS SQUARE FEET mengindikasikan sejauh mana ketersebaran luas lahan (LAND SQUARE FEET) berbeda dari ketersebaran luas bangunan kotor (GROSS SQUARE FEET) dalam dataset."
   ]
  },
  {
   "cell_type": "markdown",
   "metadata": {},
   "source": [
    "# **Confidence Intervals and Probability Distribution**\n",
    "<hr>"
   ]
  },
  {
   "cell_type": "code",
   "execution_count": 36,
   "metadata": {},
   "outputs": [
    {
     "data": {
      "text/html": [
       "<div>\n",
       "<style scoped>\n",
       "    .dataframe tbody tr th:only-of-type {\n",
       "        vertical-align: middle;\n",
       "    }\n",
       "\n",
       "    .dataframe tbody tr th {\n",
       "        vertical-align: top;\n",
       "    }\n",
       "\n",
       "    .dataframe thead th {\n",
       "        text-align: right;\n",
       "    }\n",
       "</style>\n",
       "<table border=\"1\" class=\"dataframe\">\n",
       "  <thead>\n",
       "    <tr style=\"text-align: right;\">\n",
       "      <th></th>\n",
       "      <th>BOROUGH</th>\n",
       "      <th>BUILDING CLASS AT PRESENT</th>\n",
       "      <th>YEAR</th>\n",
       "      <th>MEAN</th>\n",
       "    </tr>\n",
       "  </thead>\n",
       "  <tbody>\n",
       "    <tr>\n",
       "      <th>0</th>\n",
       "      <td>Manhattan</td>\n",
       "      <td>A</td>\n",
       "      <td>2016</td>\n",
       "      <td>557801.750000</td>\n",
       "    </tr>\n",
       "    <tr>\n",
       "      <th>1</th>\n",
       "      <td>Manhattan</td>\n",
       "      <td>A</td>\n",
       "      <td>2017</td>\n",
       "      <td>445076.969697</td>\n",
       "    </tr>\n",
       "    <tr>\n",
       "      <th>2</th>\n",
       "      <td>Manhattan</td>\n",
       "      <td>B</td>\n",
       "      <td>2016</td>\n",
       "      <td>562777.777778</td>\n",
       "    </tr>\n",
       "    <tr>\n",
       "      <th>3</th>\n",
       "      <td>Manhattan</td>\n",
       "      <td>B</td>\n",
       "      <td>2017</td>\n",
       "      <td>535250.680000</td>\n",
       "    </tr>\n",
       "    <tr>\n",
       "      <th>4</th>\n",
       "      <td>Manhattan</td>\n",
       "      <td>C</td>\n",
       "      <td>2016</td>\n",
       "      <td>498606.023560</td>\n",
       "    </tr>\n",
       "    <tr>\n",
       "      <th>...</th>\n",
       "      <td>...</td>\n",
       "      <td>...</td>\n",
       "      <td>...</td>\n",
       "      <td>...</td>\n",
       "    </tr>\n",
       "    <tr>\n",
       "      <th>243</th>\n",
       "      <td>Staten Island</td>\n",
       "      <td>V</td>\n",
       "      <td>2017</td>\n",
       "      <td>461545.937294</td>\n",
       "    </tr>\n",
       "    <tr>\n",
       "      <th>244</th>\n",
       "      <td>Staten Island</td>\n",
       "      <td>W</td>\n",
       "      <td>2016</td>\n",
       "      <td>448461.692308</td>\n",
       "    </tr>\n",
       "    <tr>\n",
       "      <th>245</th>\n",
       "      <td>Staten Island</td>\n",
       "      <td>W</td>\n",
       "      <td>2017</td>\n",
       "      <td>530000.000000</td>\n",
       "    </tr>\n",
       "    <tr>\n",
       "      <th>248</th>\n",
       "      <td>Staten Island</td>\n",
       "      <td>Z</td>\n",
       "      <td>2016</td>\n",
       "      <td>355000.000000</td>\n",
       "    </tr>\n",
       "    <tr>\n",
       "      <th>249</th>\n",
       "      <td>Staten Island</td>\n",
       "      <td>Z</td>\n",
       "      <td>2017</td>\n",
       "      <td>471857.142857</td>\n",
       "    </tr>\n",
       "  </tbody>\n",
       "</table>\n",
       "<p>189 rows × 4 columns</p>\n",
       "</div>"
      ],
      "text/plain": [
       "           BOROUGH BUILDING CLASS AT PRESENT  YEAR           MEAN\n",
       "0        Manhattan                         A  2016  557801.750000\n",
       "1        Manhattan                         A  2017  445076.969697\n",
       "2        Manhattan                         B  2016  562777.777778\n",
       "3        Manhattan                         B  2017  535250.680000\n",
       "4        Manhattan                         C  2016  498606.023560\n",
       "..             ...                       ...   ...            ...\n",
       "243  Staten Island                         V  2017  461545.937294\n",
       "244  Staten Island                         W  2016  448461.692308\n",
       "245  Staten Island                         W  2017  530000.000000\n",
       "248  Staten Island                         Z  2016  355000.000000\n",
       "249  Staten Island                         Z  2017  471857.142857\n",
       "\n",
       "[189 rows x 4 columns]"
      ]
     },
     "execution_count": 36,
     "metadata": {},
     "output_type": "execute_result"
    }
   ],
   "source": [
    "nyc_df = df_without_outliers.groupby([\"BOROUGH\",\"BUILDING CLASS AT PRESENT\",\"YEAR\"]).agg({\"SALE PRICE\":[np.mean]})\n",
    "nyc_df = nyc_df.reset_index()\n",
    "nyc_df.columns = ['BOROUGH','BUILDING CLASS AT PRESENT','YEAR','MEAN']\n",
    "nyc_df = nyc_df.dropna()\n",
    "nyc_df"
   ]
  },
  {
   "cell_type": "code",
   "execution_count": 37,
   "metadata": {},
   "outputs": [
    {
     "data": {
      "text/html": [
       "<div>\n",
       "<style scoped>\n",
       "    .dataframe tbody tr th:only-of-type {\n",
       "        vertical-align: middle;\n",
       "    }\n",
       "\n",
       "    .dataframe tbody tr th {\n",
       "        vertical-align: top;\n",
       "    }\n",
       "\n",
       "    .dataframe thead th {\n",
       "        text-align: right;\n",
       "    }\n",
       "</style>\n",
       "<table border=\"1\" class=\"dataframe\">\n",
       "  <thead>\n",
       "    <tr style=\"text-align: right;\">\n",
       "      <th></th>\n",
       "      <th>BOROUGH</th>\n",
       "      <th>BUILDING CLASS AT PRESENT</th>\n",
       "      <th>YEAR</th>\n",
       "      <th>MEAN</th>\n",
       "    </tr>\n",
       "  </thead>\n",
       "  <tbody>\n",
       "    <tr>\n",
       "      <th>35</th>\n",
       "      <td>Manhattan</td>\n",
       "      <td>R</td>\n",
       "      <td>2017</td>\n",
       "      <td>662787.332051</td>\n",
       "    </tr>\n",
       "    <tr>\n",
       "      <th>179</th>\n",
       "      <td>Queens</td>\n",
       "      <td>O</td>\n",
       "      <td>2017</td>\n",
       "      <td>659388.888889</td>\n",
       "    </tr>\n",
       "    <tr>\n",
       "      <th>7</th>\n",
       "      <td>Manhattan</td>\n",
       "      <td>D</td>\n",
       "      <td>2017</td>\n",
       "      <td>632719.708627</td>\n",
       "    </tr>\n",
       "    <tr>\n",
       "      <th>25</th>\n",
       "      <td>Manhattan</td>\n",
       "      <td>M</td>\n",
       "      <td>2017</td>\n",
       "      <td>628809.428571</td>\n",
       "    </tr>\n",
       "    <tr>\n",
       "      <th>167</th>\n",
       "      <td>Queens</td>\n",
       "      <td>I</td>\n",
       "      <td>2017</td>\n",
       "      <td>611428.571429</td>\n",
       "    </tr>\n",
       "  </tbody>\n",
       "</table>\n",
       "</div>"
      ],
      "text/plain": [
       "       BOROUGH BUILDING CLASS AT PRESENT  YEAR           MEAN\n",
       "35   Manhattan                         R  2017  662787.332051\n",
       "179     Queens                         O  2017  659388.888889\n",
       "7    Manhattan                         D  2017  632719.708627\n",
       "25   Manhattan                         M  2017  628809.428571\n",
       "167     Queens                         I  2017  611428.571429"
      ]
     },
     "execution_count": 37,
     "metadata": {},
     "output_type": "execute_result"
    }
   ],
   "source": [
    "sort_df = nyc_df[nyc_df[\"YEAR\"] == 2017].sort_values(\"MEAN\",ascending=False).head(5)\n",
    "sort_df"
   ]
  },
  {
   "cell_type": "code",
   "execution_count": 38,
   "metadata": {},
   "outputs": [
    {
     "data": {
      "text/plain": [
       "array([530000., 530000., 875000., ..., 530000., 530000., 530000.])"
      ]
     },
     "execution_count": 38,
     "metadata": {},
     "output_type": "execute_result"
    }
   ],
   "source": [
    "temp = []\n",
    "for i,j,k in zip(sort_df[\"BOROUGH\"],sort_df[\"BUILDING CLASS AT PRESENT\"],sort_df[\"YEAR\"]):\n",
    "    temp.append(df_without_outliers[(df_without_outliers[\"BOROUGH\"] == i) &\n",
    "                       (df_without_outliers[\"BUILDING CLASS AT PRESENT\"] == j) &\n",
    "                       (df_without_outliers[\"YEAR\"] == k)])\n",
    "    \n",
    "saleprice = np.array(pd.concat(temp)[\"SALE PRICE\"])\n",
    "saleprice"
   ]
  },
  {
   "cell_type": "code",
   "execution_count": 39,
   "metadata": {},
   "outputs": [],
   "source": [
    "np.random.seed(807)\n",
    "sample_means = []\n",
    "n = 25\n",
    "for sample in range(0,500):\n",
    "    sample_values = np.random.choice(a = saleprice, size = n)\n",
    "    sample_mean = np.mean(sample_values)\n",
    "    sample_means.append(sample_mean)"
   ]
  },
  {
   "cell_type": "code",
   "execution_count": 40,
   "metadata": {},
   "outputs": [
    {
     "data": {
      "image/png": "[encoded data removed]",
      "text/plain": [
       "<Figure size 1000x500 with 1 Axes>"
      ]
     },
     "metadata": {},
     "output_type": "display_data"
    }
   ],
   "source": [
    "plt.figure(figsize=(10,5),dpi=100)\n",
    "ax = sns.histplot(data=sample_means,kde=True,color=\"#FFCD4B\")\n",
    "ax.lines[0].set_color(\"#0802A3\")\n",
    "plt.title(\"Distribution of Sample Means ($n=25$) of Top 5 Sale Price\", fontsize=17)\n",
    "plt.xlabel(\"Sample Mean\", labelpad=14)\n",
    "plt.ylabel(\"Frequency\", labelpad=14);\n",
    "plt.show()"
   ]
  },
  {
   "cell_type": "code",
   "execution_count": 41,
   "metadata": {},
   "outputs": [
    {
     "name": "stderr",
     "output_type": "stream",
     "text": [
      "C:\\Users\\LENOVO\\AppData\\Roaming\\Python\\Python39\\site-packages\\seaborn\\axisgrid.py:118: UserWarning:\n",
      "\n",
      "The figure layout has changed to tight\n",
      "\n"
     ]
    },
    {
     "data": {
      "image/png": "[encoded data removed]",
      "text/plain": [
       "<Figure size 500x500 with 1 Axes>"
      ]
     },
     "metadata": {},
     "output_type": "display_data"
    }
   ],
   "source": [
    "# Or View Distribution using this way\n",
    "sns.displot(sample_means, color=\"#FF8080\", kde=True)\n",
    "plt.xlabel(\"Frequency\", labelpad=14)\n",
    "plt.ylabel(\"Sample Mean\", labelpad=14)\n",
    "plt.title(\"Distribution of Sample Means ($n=25$) of Top 5 Sale Price\", y=1.015, fontsize=20);"
   ]
  },
  {
   "cell_type": "code",
   "execution_count": 42,
   "metadata": {},
   "outputs": [
    {
     "data": {
      "text/plain": [
       "648666.8345852895"
      ]
     },
     "execution_count": 42,
     "metadata": {},
     "output_type": "execute_result"
    }
   ],
   "source": [
    "# Calculation Mean\n",
    "mean = saleprice.mean()\n",
    "mean"
   ]
  },
  {
   "cell_type": "code",
   "execution_count": 43,
   "metadata": {},
   "outputs": [
    {
     "data": {
      "text/plain": [
       "239903.66062524586"
      ]
     },
     "execution_count": 43,
     "metadata": {},
     "output_type": "execute_result"
    }
   ],
   "source": [
    "# Calculate Standard Deviation\n",
    "std_dev = saleprice.std()\n",
    "std_dev"
   ]
  },
  {
   "cell_type": "code",
   "execution_count": 44,
   "metadata": {},
   "outputs": [
    {
     "name": "stdout",
     "output_type": "stream",
     "text": [
      "647172.5800000001\n",
      "648770.6865600001\n",
      "47290.30085684404\n"
     ]
    }
   ],
   "source": [
    "# Calculate Median of Sample Means\n",
    "median_of_sample_means = np.median(sample_means)\n",
    "print(median_of_sample_means)\n",
    "\n",
    "# Calculate Mean of Sample Means\n",
    "mean_of_sample_means = np.mean(sample_means)\n",
    "print(mean_of_sample_means)\n",
    "\n",
    "# Calculate Standard Deviation of Sample Means\n",
    "stdev_of_sample_means = np.std(sample_means)\n",
    "print(stdev_of_sample_means)"
   ]
  },
  {
   "cell_type": "code",
   "execution_count": 45,
   "metadata": {},
   "outputs": [
    {
     "data": {
      "text/plain": [
       "47980.73212504917"
      ]
     },
     "execution_count": 45,
     "metadata": {},
     "output_type": "execute_result"
    }
   ],
   "source": [
    "standard_error = std_dev/np.sqrt(n)\n",
    "standard_error"
   ]
  },
  {
   "cell_type": "code",
   "execution_count": 46,
   "metadata": {},
   "outputs": [
    {
     "data": {
      "text/plain": [
       "0.024997895148220484"
      ]
     },
     "execution_count": 46,
     "metadata": {},
     "output_type": "execute_result"
    }
   ],
   "source": [
    "tail = 1 - stats.norm.cdf(1.96)\n",
    "tail"
   ]
  },
  {
   "cell_type": "code",
   "execution_count": 47,
   "metadata": {},
   "outputs": [
    {
     "data": {
      "text/plain": [
       "0.950004209703559"
      ]
     },
     "execution_count": 47,
     "metadata": {},
     "output_type": "execute_result"
    }
   ],
   "source": [
    "1 - (tail * 2)"
   ]
  },
  {
   "cell_type": "code",
   "execution_count": 48,
   "metadata": {},
   "outputs": [
    {
     "name": "stdout",
     "output_type": "stream",
     "text": [
      "554728.4515949037\n",
      "742812.9215250964\n"
     ]
    }
   ],
   "source": [
    "lower = mean_of_sample_means - 1.96*standard_error\n",
    "print(lower)\n",
    "\n",
    "upper = mean_of_sample_means + 1.96*standard_error\n",
    "print(upper)"
   ]
  },
  {
   "cell_type": "code",
   "execution_count": 49,
   "metadata": {},
   "outputs": [
    {
     "data": {
      "image/png": "[encoded data removed]",
      "text/plain": [
       "<Figure size 1000x500 with 1 Axes>"
      ]
     },
     "metadata": {},
     "output_type": "display_data"
    }
   ],
   "source": [
    "plt.figure(figsize=(10,5),dpi=100)\n",
    "kde = stats.gaussian_kde(sample_means)\n",
    "pos = np.linspace(np.min(sample_means), np.max(sample_means), 10000)\n",
    "plt.plot(pos, kde(pos), color='pink')\n",
    "shade = np.linspace(lower, upper, 300)\n",
    "\n",
    "plt.fill_between(shade, kde(shade), alpha=0.45, color='#FF7676')\n",
    "plt.xticks([lower,mean_of_sample_means,upper])\n",
    "plt.xlim(xmin=np.min(sample_means),xmax=np.max(sample_means))\n",
    "plt.ylim(ymin=0)\n",
    "\n",
    "left = np.linspace(np.min(sample_means),lower,10000)\n",
    "right = np.linspace(upper,np.max(sample_means),10000)\n",
    "for i in [left,right]:\n",
    "    plt.fill_between(i,kde(i),color=\"#FFCD4B\",alpha=0.5)\n",
    "\n",
    "plt.title(\"Distribution of Sample Means ($n=25$) of Top 5 Sale Price\", y=1.015, fontsize=20)\n",
    "plt.xlabel(\"Sample Mean\", labelpad=14)\n",
    "plt.ylabel(\"Frequency\", labelpad=14)\n",
    "\n",
    "plt.show()"
   ]
  },
  {
   "cell_type": "markdown",
   "metadata": {},
   "source": [
    "**Conclusion:**  Berdasarkan grafik, dapat disimpulkan bahwa terdapat peluang sebesar 95% bahwa rata-rata dari sampel dengan n=25 akan berada dalam area berwarna pink. Dengan demikian, probabilitas bahwa rata-rata dari sampel dengan n=25 akan berada di luar area berwarna pink adalah 100% - 95%."
   ]
  },
  {
   "cell_type": "markdown",
   "metadata": {},
   "source": [
    "# **Hypothesis Testing**\n",
    "<hr>"
   ]
  },
  {
   "cell_type": "code",
   "execution_count": 50,
   "metadata": {},
   "outputs": [
    {
     "data": {
      "image/png": "[encoded data removed]",
      "text/plain": [
       "<Figure size 640x480 with 1 Axes>"
      ]
     },
     "execution_count": 50,
     "metadata": {},
     "output_type": "execute_result"
    },
    {
     "data": {
      "image/png": "[encoded data removed]",
      "text/plain": [
       "<Figure size 640x480 with 1 Axes>"
      ]
     },
     "metadata": {},
     "output_type": "display_data"
    }
   ],
   "source": [
    "# Create a Q-Q plot for visual normality test\n",
    "sm.qqplot(sort_df['MEAN'], line='s') "
   ]
  },
  {
   "cell_type": "markdown",
   "metadata": {},
   "source": [
    "**Description:** Q-Q plot adalah plot yang digunakan untuk memvisualisasikan distribusi data apakah mendekati distribusi normal atau tidak. Dalam hal ini, Q-Q plot digunakan untuk melakukan pengujian visual terhadap normalitas data mean per borough di setiap tahunnya.\n",
    "\n",
    "Output dari Q-Q plot ini menampilkan titik-titik yang menggambarkan bagaimana data sebenarnya mendistribusikan diri terhadap distribusi normal yang diharapkan. Titik-titik di atas mendekati garis lurus dengan sudut 45 derajat, maka data cenderung terdistribusi normal."
   ]
  },
  {
   "cell_type": "code",
   "execution_count": 51,
   "metadata": {},
   "outputs": [
    {
     "name": "stdout",
     "output_type": "stream",
     "text": [
      "0.49413836002349854\n",
      "The data is normally distributed (no evidence to reject H0).\n"
     ]
    }
   ],
   "source": [
    "# Normality test using Shapiro-Wilk\n",
    "stat, p_value = stats.shapiro(sort_df['MEAN'])\n",
    "\n",
    "# Set the significance level (e.g., alpha = 0.05)\n",
    "print(p_value)\n",
    "alpha = 0.05\n",
    "\n",
    "# Check if the data is normally distributed\n",
    "if p_value > alpha:\n",
    "    print(\"The data is normally distributed (no evidence to reject H0).\")\n",
    "else:\n",
    "    print(\"The data is not normally distributed (evidence to reject H0).\")"
   ]
  },
  {
   "cell_type": "markdown",
   "metadata": {},
   "source": [
    "- **Hipotesis:** \n",
    "\n",
    "H0 : Berdistribusi normal\n",
    "\n",
    "H1 : Tidak berdistribusi normal\n",
    "\n",
    "- **Taraf Signfikansi:**\n",
    "\n",
    "α = 5%\n",
    "\n",
    "- **Statistik Uji:**\n",
    "\n",
    "Statistik uji dengan menggunakan nilai sig Shapiro-Wilk.\n",
    "\n",
    "- **Daerah Kritis:**\n",
    "\n",
    "Tolak H0 jika sig < α\n",
    "\n",
    "- **Keputusan:**\n",
    "\n",
    "H0  gagal ditolak sig > α\n",
    "\n",
    "- **Kesimpulan:**\n",
    "\n",
    "Pada taraf signifikansi α = 5%, H0  gagal ditolak sig (0,494) > α (0,05) sehingga dapat disimpulkan bahwa data berdistribusi normal."
   ]
  },
  {
   "cell_type": "markdown",
   "metadata": {},
   "source": [
    "## Preprocessing Data"
   ]
  },
  {
   "cell_type": "markdown",
   "metadata": {},
   "source": [
    "## Measure of Central Tendency"
   ]
  },
  {
   "cell_type": "markdown",
   "metadata": {},
   "source": [
    "### Mean"
   ]
  },
  {
   "cell_type": "markdown",
   "metadata": {},
   "source": [
    "### Median"
   ]
  },
  {
   "cell_type": "markdown",
   "metadata": {},
   "source": [
    "### Modus"
   ]
  },
  {
   "cell_type": "markdown",
   "metadata": {},
   "source": [
    "## Measure of Spread"
   ]
  },
  {
   "cell_type": "markdown",
   "metadata": {},
   "source": [
    "### Range"
   ]
  },
  {
   "cell_type": "markdown",
   "metadata": {},
   "source": [
    "### Variance"
   ]
  },
  {
   "cell_type": "markdown",
   "metadata": {},
   "source": [
    "### Standard Deviation"
   ]
  },
  {
   "cell_type": "markdown",
   "metadata": {},
   "source": [
    "## Probability Distribution"
   ]
  },
  {
   "cell_type": "markdown",
   "metadata": {},
   "source": [
    "## Confidence Interval"
   ]
  },
  {
   "cell_type": "markdown",
   "metadata": {},
   "source": [
    "## Hypothesis Testing"
   ]
  },
  {
   "cell_type": "markdown",
   "metadata": {},
   "source": [
    "## Preprocessing"
   ]
  }
 ],
 "metadata": {
  "kernelspec": {
   "display_name": "Python 3",
   "language": "python",
   "name": "python3"
  },
  "language_info": {
   "codemirror_mode": {
    "name": "ipython",
    "version": 3
   },
   "file_extension": ".py",
   "mimetype": "text/x-python",
   "name": "python",
   "nbconvert_exporter": "python",
   "pygments_lexer": "ipython3",
   "version": "3.9.7"
  }
 },
 "nbformat": 4,
 "nbformat_minor": 2
}
